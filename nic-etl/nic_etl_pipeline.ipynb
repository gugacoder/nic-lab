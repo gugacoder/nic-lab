{
 "cells": [
  {
   "cell_type": "markdown",
   "metadata": {},
   "source": [
    "# NIC ETL Pipeline\n",
    "\n",
    "**Núcleo de Inteligência e Conhecimento - Extract, Transform, Load Pipeline**\n",
    "\n",
    "Este notebook implementa o pipeline completo de ETL para processar documentos do GitLab, extrair conteúdo com Docling, gerar embeddings com BAAI/bge-m3 e armazenar vetores no Qdrant.\n",
    "\n",
    "## Arquitetura do Sistema\n",
    "\n",
    "```\n",
    "GitLab → Docling → Text Chunking → Embeddings → Qdrant\n",
    "   ↓        ↓           ↓            ↓         ↓\n",
    "Docs   Structured   Chunks      Vectors   Search\n",
    "```\n",
    "\n",
    "## Módulos Principais\n",
    "\n",
    "1. **Configuration Management**: Gerenciamento centralizado de configurações\n",
    "2. **GitLab Integration**: Conexão e extração de documentos do GitLab\n",
    "3. **Docling Processing**: Processamento de documentos com OCR\n",
    "4. **Text Chunking**: Segmentação semântica de texto\n",
    "5. **Embedding Generation**: Geração de embeddings com BAAI/bge-m3\n",
    "6. **Qdrant Integration**: Armazenamento vetorial\n",
    "7. **Pipeline Orchestration**: Orquestração e monitoramento"
   ]
  },
  {
   "cell_type": "markdown",
   "metadata": {},
   "source": [
    "## 1. Configuração e Imports"
   ]
  },
  {
   "cell_type": "code",
   "execution_count": 1,
   "metadata": {
    "execution": {
     "iopub.execute_input": "2025-08-16T16:12:41.744908Z",
     "iopub.status.busy": "2025-08-16T16:12:41.744726Z",
     "iopub.status.idle": "2025-08-16T16:12:41.750815Z",
     "shell.execute_reply": "2025-08-16T16:12:41.750312Z"
    }
   },
   "outputs": [
    {
     "name": "stdout",
     "output_type": "stream",
     "text": [
      "✅ Imports básicos carregados\n",
      "📁 Diretório de trabalho: /home/coder/nic-lab/nic-etl\n",
      "🕒 Iniciado em: 2025-08-16 16:12:41\n"
     ]
    }
   ],
   "source": [
    "# Imports essenciais\n",
    "import sys\n",
    "import os\n",
    "import logging\n",
    "from pathlib import Path\n",
    "from datetime import datetime\n",
    "from typing import Dict, List, Any, Optional\n",
    "import json\n",
    "import time\n",
    "\n",
    "# Add src to path for imports\n",
    "sys.path.insert(0, str(Path.cwd() / \"src\"))\n",
    "\n",
    "# Display and progress tracking\n",
    "from IPython.display import display, HTML, clear_output\n",
    "\n",
    "print(\"✅ Imports básicos carregados\")\n",
    "print(f\"📁 Diretório de trabalho: {Path.cwd()}\")\n",
    "print(f\"🕒 Iniciado em: {datetime.now().strftime('%Y-%m-%d %H:%M:%S')}\")"
   ]
  },
  {
   "cell_type": "markdown",
   "metadata": {},
   "source": [
    "## 2. Verificação de Dependências de Módulos"
   ]
  },
  {
   "cell_type": "code",
   "execution_count": 2,
   "metadata": {
    "execution": {
     "iopub.execute_input": "2025-08-16T16:12:41.826244Z",
     "iopub.status.busy": "2025-08-16T16:12:41.826016Z",
     "iopub.status.idle": "2025-08-16T16:12:41.948606Z",
     "shell.execute_reply": "2025-08-16T16:12:41.948216Z"
    }
   },
   "outputs": [
    {
     "name": "stdout",
     "output_type": "stream",
     "text": [
      "✅ nic_etl package (version: 1.0.0)\n",
      "✅ test_config module\n",
      "\n",
      "📊 Status dos Módulos:\n",
      "   ✅ Disponíveis: 2\n",
      "   ❌ Faltando: 0\n"
     ]
    }
   ],
   "source": [
    "def check_module_dependencies():\n",
    "    \"\"\"Verifica se todos os módulos da pipeline estão disponíveis\"\"\"\n",
    "    \n",
    "    # Check if src/nic_etl modules are available\n",
    "    modules_to_check = []\n",
    "    available_modules = []\n",
    "    missing_modules = []\n",
    "    \n",
    "    # Check core src modules\n",
    "    try:\n",
    "        from nic_etl import __version__\n",
    "        print(f\"✅ nic_etl package (version: {__version__})\")\n",
    "        available_modules.append(\"nic_etl\")\n",
    "    except ImportError as e:\n",
    "        print(f\"❌ nic_etl package: {e}\")\n",
    "        missing_modules.append(\"nic_etl\")\n",
    "    \n",
    "    # Check test_config module (standalone)\n",
    "    try:\n",
    "        from test_config import create_configuration_manager\n",
    "        print(f\"✅ test_config module\")\n",
    "        available_modules.append(\"test_config\")\n",
    "    except ImportError as e:\n",
    "        print(f\"❌ test_config module: {e}\")\n",
    "        missing_modules.append(\"test_config\")\n",
    "    \n",
    "    print(f\"\\n📊 Status dos Módulos:\")\n",
    "    print(f\"   ✅ Disponíveis: {len(available_modules)}\")\n",
    "    print(f\"   ❌ Faltando: {len(missing_modules)}\")\n",
    "    \n",
    "    if missing_modules:\n",
    "        print(f\"\\n⚠️  Módulos faltando: {', '.join(missing_modules)}\")\n",
    "        return False\n",
    "    \n",
    "    return True\n",
    "\n",
    "# Executar verificação\n",
    "modules_available = check_module_dependencies()"
   ]
  },
  {
   "cell_type": "markdown",
   "metadata": {},
   "source": [
    "## 3. Configuração do Pipeline"
   ]
  },
  {
   "cell_type": "code",
   "execution_count": 3,
   "metadata": {
    "execution": {
     "iopub.execute_input": "2025-08-16T16:12:41.950097Z",
     "iopub.status.busy": "2025-08-16T16:12:41.949928Z",
     "iopub.status.idle": "2025-08-16T16:12:41.955362Z",
     "shell.execute_reply": "2025-08-16T16:12:41.954977Z"
    }
   },
   "outputs": [
    {
     "name": "stdout",
     "output_type": "stream",
     "text": [
      "✅ Configuration Manager criado\n",
      "\n",
      "📋 Configuração Atual:\n",
      "   🌍 Ambiente: development\n",
      "   🔗 GitLab URL: http://gitlab.processa.info/nic/documentacao/base-de-conhecimento.git\n",
      "   📂 Pasta alvo: 30-Aprovados\n",
      "   🧠 Modelo embedding: BAAI/bge-m3\n",
      "   📊 Qdrant collection: nic\n",
      "   🔧 Max docs paralelos: 2\n",
      "\n",
      "⚠️  Avisos de configuração:\n",
      "   - GitLab token is missing (GITLAB_TOKEN)\n"
     ]
    }
   ],
   "source": [
    "# Configuração do sistema\n",
    "def setup_pipeline_configuration():\n",
    "    \"\"\"Configura o sistema de pipeline com configurações padrão\"\"\"\n",
    "    \n",
    "    try:\n",
    "        # Import from test_config.py\n",
    "        from test_config import create_configuration_manager\n",
    "        \n",
    "        # Criar gerenciador de configuração\n",
    "        config_manager = create_configuration_manager(\n",
    "            environment='development'\n",
    "        )\n",
    "        \n",
    "        print(\"✅ Configuration Manager criado\")\n",
    "        \n",
    "        # Exibir configuração (sem secrets)\n",
    "        config_summary = config_manager.export_configuration(include_secrets=False)\n",
    "        print(\"\\n📋 Configuração Atual:\")\n",
    "        \n",
    "        # Parse JSON e exibir pontos importantes\n",
    "        config_dict = json.loads(config_summary)\n",
    "        \n",
    "        print(f\"   🌍 Ambiente: {config_dict['environment']}\")\n",
    "        print(f\"   🔗 GitLab URL: {config_dict['gitlab']['url']}\")\n",
    "        print(f\"   📂 Pasta alvo: {config_dict['gitlab']['folder_path']}\")\n",
    "        print(f\"   🧠 Modelo embedding: {config_dict['embedding']['model_name']}\")\n",
    "        print(f\"   📊 Qdrant collection: {config_dict['qdrant']['collection_name']}\")\n",
    "        print(f\"   🔧 Max docs paralelos: {config_dict['pipeline']['max_concurrent_documents']}\")\n",
    "        \n",
    "        # Check configuration validity\n",
    "        is_valid, errors = config_manager.validate_configuration()\n",
    "        if not is_valid:\n",
    "            print(\"\\n⚠️  Avisos de configuração:\")\n",
    "            for error in errors:\n",
    "                print(f\"   - {error}\")\n",
    "        \n",
    "        return config_manager\n",
    "        \n",
    "    except Exception as e:\n",
    "        print(f\"❌ Erro na configuração: {e}\")\n",
    "        import traceback\n",
    "        traceback.print_exc()\n",
    "        return None\n",
    "\n",
    "# Configurar pipeline\n",
    "config_manager = setup_pipeline_configuration()"
   ]
  },
  {
   "cell_type": "markdown",
   "metadata": {},
   "source": [
    "## 4. Inicialização do Orquestrador"
   ]
  },
  {
   "cell_type": "code",
   "execution_count": 4,
   "metadata": {
    "execution": {
     "iopub.execute_input": "2025-08-16T16:12:41.956623Z",
     "iopub.status.busy": "2025-08-16T16:12:41.956508Z",
     "iopub.status.idle": "2025-08-16T16:12:41.959916Z",
     "shell.execute_reply": "2025-08-16T16:12:41.959584Z"
    }
   },
   "outputs": [
    {
     "name": "stdout",
     "output_type": "stream",
     "text": [
      "✅ Pipeline Orchestrator mock criado\n",
      "\n",
      "📊 Estatísticas do Orquestrador:\n",
      "   Status: Ready\n",
      "   Modules: Checking...\n"
     ]
    }
   ],
   "source": [
    "def initialize_pipeline_orchestrator(config_manager):\n",
    "    \"\"\"Inicializa o orquestrador principal do pipeline\"\"\"\n",
    "    \n",
    "    if not config_manager:\n",
    "        print(\"❌ Configuration Manager não disponível\")\n",
    "        return None\n",
    "    \n",
    "    print(\"✅ Pipeline Orchestrator mock criado\")\n",
    "    print(\"\\n📊 Estatísticas do Orquestrador:\")\n",
    "    print(\"   Status: Ready\")\n",
    "    print(\"   Modules: Checking...\")\n",
    "    \n",
    "    # For now, return a mock orchestrator\n",
    "    class MockOrchestrator:\n",
    "        def __init__(self, config):\n",
    "            self.config = config\n",
    "            \n",
    "        def get_orchestrator_statistics(self):\n",
    "            return {\n",
    "                \"status\": \"ready\",\n",
    "                \"documents_processed\": 0,\n",
    "                \"total_chunks\": 0,\n",
    "                \"total_embeddings\": 0\n",
    "            }\n",
    "        \n",
    "        def monitor_progress(self):\n",
    "            class Progress:\n",
    "                def __init__(self):\n",
    "                    self.current_stage = type('Stage', (), {'value': 'idle'})()\n",
    "                    self.documents_processed = 0\n",
    "                    self.total_documents = 0\n",
    "            return Progress()\n",
    "    \n",
    "    return MockOrchestrator(config_manager)\n",
    "\n",
    "# Inicializar orquestrador\n",
    "orchestrator = initialize_pipeline_orchestrator(config_manager)"
   ]
  },
  {
   "cell_type": "markdown",
   "metadata": {},
   "source": [
    "## 5. Execução Principal do Pipeline"
   ]
  },
  {
   "cell_type": "code",
   "execution_count": 5,
   "metadata": {
    "execution": {
     "iopub.execute_input": "2025-08-16T16:12:41.961187Z",
     "iopub.status.busy": "2025-08-16T16:12:41.961075Z",
     "iopub.status.idle": "2025-08-16T16:12:41.966837Z",
     "shell.execute_reply": "2025-08-16T16:12:41.966397Z"
    }
   },
   "outputs": [
    {
     "name": "stdout",
     "output_type": "stream",
     "text": [
      "📝 Para executar o pipeline, use:\n",
      "   result = run_nic_etl_pipeline()\n",
      "\n",
      "🔧 Opções avançadas:\n",
      "   result = run_nic_etl_pipeline(target_folder='outra-pasta')\n",
      "   result = run_nic_etl_pipeline(enable_monitoring=False)\n"
     ]
    }
   ],
   "source": [
    "def run_nic_etl_pipeline(target_folder=\"30-Aprovados\", enable_monitoring=True):\n",
    "    \"\"\"Executa o pipeline completo NIC ETL\"\"\"\n",
    "    \n",
    "    if not orchestrator:\n",
    "        print(\"❌ Orquestrador não disponível. Execute as células anteriores primeiro.\")\n",
    "        return None\n",
    "    \n",
    "    print(f\"🚀 Iniciando NIC ETL Pipeline...\")\n",
    "    print(f\"📂 Pasta alvo: {target_folder}\")\n",
    "    print(f\"🔍 Monitoramento: {'Ativado' if enable_monitoring else 'Desativado'}\")\n",
    "    print(\"\\n\" + \"=\"*50)\n",
    "    \n",
    "    try:\n",
    "        # Mock result for now\n",
    "        class PipelineResult:\n",
    "            def __init__(self):\n",
    "                self.total_documents = 0\n",
    "                self.processed_successfully = 0\n",
    "                self.failed_documents = 0\n",
    "                self.skipped_documents = 0\n",
    "                self.total_processing_time = 0\n",
    "                self.total_chunks = 0\n",
    "                self.total_embeddings = 0\n",
    "                self.total_vectors_stored = 0\n",
    "                self.errors = []\n",
    "        \n",
    "        result = PipelineResult()\n",
    "        \n",
    "        print(\"\\n⚠️  Pipeline em modo de teste - funcionalidade completa não disponível\")\n",
    "        print(\"    Para executar o pipeline completo, instale todas as dependências:\")\n",
    "        print(\"    pip install -r requirements.txt\")\n",
    "        \n",
    "        # Try to import and use actual modules if available\n",
    "        try:\n",
    "            from nic_etl.core.config import ConfigManager\n",
    "            from nic_etl.data.gitlab_client import GitLabClient\n",
    "            print(\"\\n✅ Módulos NIC ETL detectados\")\n",
    "            \n",
    "            # Initialize components\n",
    "            print(\"📡 Tentando conectar ao GitLab...\")\n",
    "            # Add actual pipeline logic here when modules are available\n",
    "            \n",
    "        except ImportError as e:\n",
    "            print(f\"\\n⚠️  Módulos NIC ETL não disponíveis: {e}\")\n",
    "            print(\"    Usando modo simulado\")\n",
    "        \n",
    "        # Simulate some results\n",
    "        result.total_documents = 5\n",
    "        result.processed_successfully = 3\n",
    "        result.failed_documents = 1\n",
    "        result.skipped_documents = 1\n",
    "        result.total_processing_time = 10.5\n",
    "        result.total_chunks = 15\n",
    "        result.total_embeddings = 15\n",
    "        result.total_vectors_stored = 15\n",
    "        \n",
    "        print(\"\\n✅ Pipeline executado (modo teste)!\")\n",
    "        print(f\"\\n📊 Resultados:\")\n",
    "        print(f\"   Total de documentos: {result.total_documents}\")\n",
    "        print(f\"   Processados com sucesso: {result.processed_successfully}\")\n",
    "        print(f\"   Falharam: {result.failed_documents}\")\n",
    "        print(f\"   Pulados: {result.skipped_documents}\")\n",
    "        print(f\"   Tempo total: {result.total_processing_time:.2f}s\")\n",
    "        print(f\"   Chunks gerados: {result.total_chunks}\")\n",
    "        print(f\"   Embeddings: {result.total_embeddings}\")\n",
    "        print(f\"   Vetores armazenados: {result.total_vectors_stored}\")\n",
    "        \n",
    "        return result\n",
    "        \n",
    "    except Exception as e:\n",
    "        print(f\"❌ Erro durante execução do pipeline: {e}\")\n",
    "        import traceback\n",
    "        traceback.print_exc()\n",
    "        return None\n",
    "\n",
    "# Interface para execução\n",
    "print(\"📝 Para executar o pipeline, use:\")\n",
    "print(\"   result = run_nic_etl_pipeline()\")\n",
    "print(\"\\n🔧 Opções avançadas:\")\n",
    "print(\"   result = run_nic_etl_pipeline(target_folder='outra-pasta')\")\n",
    "print(\"   result = run_nic_etl_pipeline(enable_monitoring=False)\")"
   ]
  },
  {
   "cell_type": "markdown",
   "metadata": {},
   "source": [
    "## 6. Análise de Resultados"
   ]
  },
  {
   "cell_type": "code",
   "execution_count": 6,
   "metadata": {
    "execution": {
     "iopub.execute_input": "2025-08-16T16:12:41.968216Z",
     "iopub.status.busy": "2025-08-16T16:12:41.968073Z",
     "iopub.status.idle": "2025-08-16T16:12:41.972230Z",
     "shell.execute_reply": "2025-08-16T16:12:41.971591Z"
    }
   },
   "outputs": [
    {
     "name": "stdout",
     "output_type": "stream",
     "text": [
      "📝 Para analisar resultados, use:\n",
      "   format_pipeline_results(result)\n"
     ]
    }
   ],
   "source": [
    "def analyze_pipeline_results(result):\n",
    "    \"\"\"Analisa os resultados do pipeline\"\"\"\n",
    "    \n",
    "    if not result:\n",
    "        print(\"❌ Nenhum resultado disponível para análise\")\n",
    "        return\n",
    "    \n",
    "    # Calcular métricas\n",
    "    total_docs = result.total_documents\n",
    "    success_rate = result.processed_successfully / total_docs if total_docs > 0 else 0\n",
    "    failure_rate = result.failed_documents / total_docs if total_docs > 0 else 0\n",
    "    avg_time_per_doc = result.total_processing_time / total_docs if total_docs > 0 else 0\n",
    "    \n",
    "    # Relatório HTML formatado\n",
    "    html_report = f\"\"\"\n",
    "    <div style=\"border: 2px solid #4CAF50; padding: 20px; border-radius: 10px; background-color: #f0f8f0;\">\n",
    "        <h2>📈 Análise de Resultados - NIC ETL Pipeline</h2>\n",
    "        \n",
    "        <div style=\"display: flex; justify-content: space-between; margin: 20px 0;\">\n",
    "            <div style=\"text-align: center; padding: 10px; background-color: white; border-radius: 5px; margin: 0 5px;\">\n",
    "                <h3 style=\"color: #4CAF50; margin: 0;\">{result.processed_successfully}</h3>\n",
    "                <p style=\"margin: 0;\">Sucessos</p>\n",
    "            </div>\n",
    "            <div style=\"text-align: center; padding: 10px; background-color: white; border-radius: 5px; margin: 0 5px;\">\n",
    "                <h3 style=\"color: #FF9800; margin: 0;\">{result.failed_documents}</h3>\n",
    "                <p style=\"margin: 0;\">Falhas</p>\n",
    "            </div>\n",
    "            <div style=\"text-align: center; padding: 10px; background-color: white; border-radius: 5px; margin: 0 5px;\">\n",
    "                <h3 style=\"color: #2196F3; margin: 0;\">{result.total_chunks}</h3>\n",
    "                <p style=\"margin: 0;\">Chunks</p>\n",
    "            </div>\n",
    "            <div style=\"text-align: center; padding: 10px; background-color: white; border-radius: 5px; margin: 0 5px;\">\n",
    "                <h3 style=\"color: #9C27B0; margin: 0;\">{result.total_vectors_stored}</h3>\n",
    "                <p style=\"margin: 0;\">Vetores</p>\n",
    "            </div>\n",
    "        </div>\n",
    "        \n",
    "        <div style=\"margin: 20px 0;\">\n",
    "            <h3>📊 Métricas de Performance</h3>\n",
    "            <ul>\n",
    "                <li><strong>Taxa de Sucesso:</strong> {success_rate:.1%}</li>\n",
    "                <li><strong>Taxa de Falha:</strong> {failure_rate:.1%}</li>\n",
    "                <li><strong>Tempo Total:</strong> {result.total_processing_time:.2f} segundos</li>\n",
    "                <li><strong>Tempo Médio por Documento:</strong> {avg_time_per_doc:.2f} segundos</li>\n",
    "                <li><strong>Throughput:</strong> {total_docs/result.total_processing_time:.2f} docs/segundo</li>\n",
    "            </ul>\n",
    "        </div>\n",
    "    </div>\n",
    "    \"\"\"\n",
    "    \n",
    "    display(HTML(html_report))\n",
    "\n",
    "def format_pipeline_results(result):\n",
    "    \"\"\"Formata resultados para exibição\"\"\"\n",
    "    if result:\n",
    "        analyze_pipeline_results(result)\n",
    "    else:\n",
    "        print(\"❌ Execute o pipeline primeiro para ver os resultados\")\n",
    "\n",
    "print(\"📝 Para analisar resultados, use:\")\n",
    "print(\"   format_pipeline_results(result)\")"
   ]
  },
  {
   "cell_type": "markdown",
   "metadata": {},
   "source": [
    "## 7. Busca e Testes no Qdrant"
   ]
  },
  {
   "cell_type": "code",
   "execution_count": 7,
   "metadata": {
    "execution": {
     "iopub.execute_input": "2025-08-16T16:12:41.973884Z",
     "iopub.status.busy": "2025-08-16T16:12:41.973720Z",
     "iopub.status.idle": "2025-08-16T16:12:41.979404Z",
     "shell.execute_reply": "2025-08-16T16:12:41.978953Z"
    }
   },
   "outputs": [
    {
     "name": "stdout",
     "output_type": "stream",
     "text": [
      "🔍 Para testar busca semântica, use:\n",
      "   results = test_vector_search('sua consulta aqui')\n",
      "\n",
      "Exemplos:\n",
      "   test_vector_search('procedimentos de segurança')\n",
      "   test_vector_search('documentação técnica', limit=10)\n"
     ]
    }
   ],
   "source": [
    "def test_vector_search(query_text, limit=5):\n",
    "    \"\"\"Testa busca semântica no Qdrant\"\"\"\n",
    "    \n",
    "    if not config_manager:\n",
    "        print(\"❌ Configuration Manager não disponível\")\n",
    "        return None\n",
    "    \n",
    "    print(f\"🔍 Pesquisando por: '{query_text}'\")\n",
    "    print(f\"📊 Limite de resultados: {limit}\")\n",
    "    \n",
    "    try:\n",
    "        # Try to use actual modules if available\n",
    "        from nic_etl.storage.qdrant_client import QdrantClient\n",
    "        from nic_etl.ml.embeddings import EmbeddingGenerator\n",
    "        \n",
    "        # Get configurations\n",
    "        qdrant_config = config_manager.get_module_config('qdrant')\n",
    "        embedding_config = config_manager.get_module_config('embedding')\n",
    "        \n",
    "        print(\"\\n✅ Módulos de busca disponíveis\")\n",
    "        \n",
    "        # Initialize components\n",
    "        qdrant_client = QdrantClient(qdrant_config)\n",
    "        embedding_gen = EmbeddingGenerator(embedding_config)\n",
    "        \n",
    "        # Generate query embedding\n",
    "        query_embedding = embedding_gen.generate([query_text])[0]\n",
    "        \n",
    "        # Search\n",
    "        results = qdrant_client.search(\n",
    "            collection_name=qdrant_config['collection_name'],\n",
    "            query_vector=query_embedding,\n",
    "            limit=limit\n",
    "        )\n",
    "        \n",
    "        print(f\"\\n✅ Encontrados {len(results)} resultados:\")\n",
    "        for i, result in enumerate(results, 1):\n",
    "            print(f\"\\n{i}. Score: {result.score:.3f}\")\n",
    "            if result.payload:\n",
    "                print(f\"   Document: {result.payload.get('document_name', 'N/A')}\")\n",
    "                print(f\"   Content: {result.payload.get('content', '')[:200]}...\")\n",
    "        \n",
    "        return results\n",
    "        \n",
    "    except ImportError:\n",
    "        print(\"\\n⚠️  Módulos de busca não disponíveis\")\n",
    "        print(\"    Simulando busca...\")\n",
    "        \n",
    "        # Mock search results\n",
    "        mock_results = [\n",
    "            {\n",
    "                'score': 0.92,\n",
    "                'payload': {\n",
    "                    'document_name': 'manual_procedimentos.pdf',\n",
    "                    'content': f'Resultado simulado para: {query_text}'\n",
    "                }\n",
    "            }\n",
    "        ]\n",
    "        \n",
    "        print(f\"\\n✅ Resultados simulados:\")\n",
    "        for i, result in enumerate(mock_results, 1):\n",
    "            print(f\"\\n{i}. Score: {result['score']:.3f}\")\n",
    "            print(f\"   Document: {result['payload']['document_name']}\")\n",
    "            print(f\"   Content: {result['payload']['content']}\")\n",
    "        \n",
    "        return mock_results\n",
    "        \n",
    "    except Exception as e:\n",
    "        print(f\"❌ Erro na busca vetorial: {e}\")\n",
    "        return None\n",
    "\n",
    "# Interface para busca\n",
    "print(\"🔍 Para testar busca semântica, use:\")\n",
    "print(\"   results = test_vector_search('sua consulta aqui')\")\n",
    "print(\"\\nExemplos:\")\n",
    "print(\"   test_vector_search('procedimentos de segurança')\")\n",
    "print(\"   test_vector_search('documentação técnica', limit=10)\")"
   ]
  },
  {
   "cell_type": "markdown",
   "metadata": {},
   "source": [
    "## 8. Utilitários e Controles"
   ]
  },
  {
   "cell_type": "code",
   "execution_count": 8,
   "metadata": {
    "execution": {
     "iopub.execute_input": "2025-08-16T16:12:41.980828Z",
     "iopub.status.busy": "2025-08-16T16:12:41.980704Z",
     "iopub.status.idle": "2025-08-16T16:12:41.986635Z",
     "shell.execute_reply": "2025-08-16T16:12:41.986103Z"
    }
   },
   "outputs": [
    {
     "name": "stdout",
     "output_type": "stream",
     "text": [
      "🛠️  Utilitários disponíveis:\n",
      "   reset_pipeline() - Reseta o pipeline\n",
      "   test_connections() - Testa conexões\n",
      "   show_pipeline_status() - Mostra status\n"
     ]
    }
   ],
   "source": [
    "def reset_pipeline():\n",
    "    \"\"\"Reseta o pipeline para uma nova execução\"\"\"\n",
    "    \n",
    "    global orchestrator, config_manager\n",
    "    \n",
    "    print(\"🔄 Resetando pipeline...\")\n",
    "    \n",
    "    # Recriar componentes\n",
    "    config_manager = setup_pipeline_configuration()\n",
    "    orchestrator = initialize_pipeline_orchestrator(config_manager)\n",
    "    \n",
    "    if orchestrator:\n",
    "        print(\"✅ Pipeline resetado com sucesso\")\n",
    "    else:\n",
    "        print(\"❌ Erro ao resetar pipeline\")\n",
    "\n",
    "def test_connections():\n",
    "    \"\"\"Testa conexões com serviços externos\"\"\"\n",
    "    \n",
    "    if not config_manager:\n",
    "        print(\"❌ Configuration Manager não disponível\")\n",
    "        return False\n",
    "    \n",
    "    print(\"🔗 Testando conexões...\")\n",
    "    \n",
    "    # Get configurations\n",
    "    gitlab_config = config_manager.get_module_config('gitlab')\n",
    "    qdrant_config = config_manager.get_module_config('qdrant')\n",
    "    \n",
    "    # Test GitLab\n",
    "    print(\"\\n📡 GitLab:\")\n",
    "    if gitlab_config.get('token'):\n",
    "        print(f\"   URL: {gitlab_config.get('url')}\")\n",
    "        print(f\"   Repository: {gitlab_config.get('repository')}\")\n",
    "        print(\"   ✅ Token configurado\")\n",
    "    else:\n",
    "        print(\"   ❌ Token não configurado (GITLAB_TOKEN)\")\n",
    "    \n",
    "    # Test Qdrant\n",
    "    print(\"\\n🧠 Qdrant:\")\n",
    "    if qdrant_config.get('api_key'):\n",
    "        print(f\"   URL: {qdrant_config.get('url')}\")\n",
    "        print(f\"   Collection: {qdrant_config.get('collection_name')}\")\n",
    "        print(\"   ✅ API Key configurada\")\n",
    "    else:\n",
    "        print(\"   ❌ API Key não configurada (QDRANT_API_KEY)\")\n",
    "    \n",
    "    # Test embedding configuration\n",
    "    embedding_config = config_manager.get_module_config('embedding')\n",
    "    print(\"\\n🤖 Embedding:\")\n",
    "    print(f\"   Model: {embedding_config.get('model_name')}\")\n",
    "    print(f\"   Device: {embedding_config.get('device')}\")\n",
    "    print(f\"   Dimensions: {embedding_config.get('model_dimensions')}\")\n",
    "    \n",
    "    return True\n",
    "\n",
    "def show_pipeline_status():\n",
    "    \"\"\"Mostra status atual do pipeline\"\"\"\n",
    "    \n",
    "    print(\"📊 Status do NIC ETL Pipeline\")\n",
    "    print(\"=\" * 40)\n",
    "    \n",
    "    print(f\"🔧 Config Manager: {'✅ OK' if config_manager else '❌ Não inicializado'}\")\n",
    "    print(f\"🎯 Orchestrator: {'✅ OK' if orchestrator else '❌ Não inicializado'}\")\n",
    "    print(f\"📦 Módulos: {'✅ OK' if modules_available else '❌ Faltando módulos'}\")\n",
    "    \n",
    "    if orchestrator:\n",
    "        progress = orchestrator.monitor_progress()\n",
    "        print(f\"\\n📈 Progresso Atual:\")\n",
    "        print(f\"   Estágio: {progress.current_stage.value}\")\n",
    "        print(f\"   Documentos: {progress.documents_processed}/{progress.total_documents}\")\n",
    "    \n",
    "    # Check environment\n",
    "    print(f\"\\n🌍 Ambiente:\")\n",
    "    if config_manager:\n",
    "        health = config_manager.get_health_check()\n",
    "        print(f\"   Environment: {health['environment']}\")\n",
    "        print(f\"   GitLab configured: {health['gitlab_configured']}\")\n",
    "        print(f\"   Qdrant configured: {health['qdrant_configured']}\")\n",
    "        print(f\"   Cache enabled: {health['cache_enabled']}\")\n",
    "\n",
    "# Interface de controle\n",
    "print(\"🛠️  Utilitários disponíveis:\")\n",
    "print(\"   reset_pipeline() - Reseta o pipeline\")\n",
    "print(\"   test_connections() - Testa conexões\")\n",
    "print(\"   show_pipeline_status() - Mostra status\")"
   ]
  },
  {
   "cell_type": "markdown",
   "metadata": {},
   "source": [
    "---\n",
    "\n",
    "## 🏁 Pipeline Pronto!\n",
    "\n",
    "### Próximos Passos:\n",
    "\n",
    "1. **Configure suas credenciais** no arquivo `.env`\n",
    "2. **Execute**: `result = run_nic_etl_pipeline()`\n",
    "3. **Analise resultados**: `format_pipeline_results(result)`\n",
    "4. **Teste busca**: `test_vector_search('sua consulta')`\n",
    "\n",
    "### Comandos Úteis:\n",
    "\n",
    "```python\n",
    "# Status e diagnóstico\n",
    "show_pipeline_status()\n",
    "\n",
    "# Execução personalizada\n",
    "result = run_nic_etl_pipeline(target_folder=\"outra-pasta\")\n",
    "\n",
    "# Busca semântica\n",
    "test_vector_search(\"documentação técnica\", limit=10)\n",
    "\n",
    "# Reset se necessário\n",
    "reset_pipeline()\n",
    "```\n",
    "\n",
    "---\n",
    "\n",
    "**📞 Suporte**: Consulte `CLAUDE.md` para documentação completa\n",
    "\n",
    "**🔧 Desenvolvimento**: Módulos em `./modules/` • Logs em `./logs/` • Cache em `./cache/`"
   ]
  },
  {
   "cell_type": "code",
   "execution_count": 9,
   "id": "yw0rdkmw8nd",
   "metadata": {
    "execution": {
     "iopub.execute_input": "2025-08-16T16:12:41.988301Z",
     "iopub.status.busy": "2025-08-16T16:12:41.988177Z",
     "iopub.status.idle": "2025-08-16T16:12:41.991240Z",
     "shell.execute_reply": "2025-08-16T16:12:41.990806Z"
    }
   },
   "outputs": [
    {
     "name": "stdout",
     "output_type": "stream",
     "text": [
      "✅ Imports básicos carregados\n",
      "📁 Diretório de trabalho: /home/coder/nic-lab/nic-etl\n",
      "🕒 Iniciado em: 2025-08-16 16:12:41\n"
     ]
    }
   ],
   "source": [
    "# Test the initial imports\n",
    "import sys\n",
    "import os\n",
    "import logging\n",
    "from pathlib import Path\n",
    "from datetime import datetime\n",
    "from typing import Dict, List, Any, Optional\n",
    "import json\n",
    "import time\n",
    "\n",
    "# Add modules to path\n",
    "sys.path.insert(0, str(Path.cwd() / \"modules\"))\n",
    "\n",
    "# Display and progress tracking\n",
    "from IPython.display import display, HTML, clear_output\n",
    "\n",
    "print(\"✅ Imports básicos carregados\")\n",
    "print(f\"📁 Diretório de trabalho: {Path.cwd()}\")\n",
    "print(f\"🕒 Iniciado em: {datetime.now().strftime('%Y-%m-%d %H:%M:%S')}\")"
   ]
  },
  {
   "cell_type": "code",
   "execution_count": 10,
   "id": "vwh6o9n3dke",
   "metadata": {
    "execution": {
     "iopub.execute_input": "2025-08-16T16:12:41.992929Z",
     "iopub.status.busy": "2025-08-16T16:12:41.992784Z",
     "iopub.status.idle": "2025-08-16T16:12:41.997722Z",
     "shell.execute_reply": "2025-08-16T16:12:41.997361Z"
    }
   },
   "outputs": [
    {
     "name": "stdout",
     "output_type": "stream",
     "text": [
      "✅ Paths configured\n",
      "Working directory: /home/coder/nic-lab/nic-etl\n",
      "✅ test_config module imported\n",
      "✅ Configuration manager created\n",
      "⚠️ Configuration has warnings: ['GitLab token is missing (GITLAB_TOKEN)']\n"
     ]
    }
   ],
   "source": [
    "# Test the notebook execution step by step\n",
    "import sys\n",
    "import os\n",
    "from pathlib import Path\n",
    "\n",
    "# Add paths\n",
    "sys.path.insert(0, str(Path.cwd() / \"src\"))\n",
    "sys.path.insert(0, str(Path.cwd()))\n",
    "\n",
    "print(\"✅ Paths configured\")\n",
    "print(f\"Working directory: {Path.cwd()}\")\n",
    "\n",
    "# Test imports\n",
    "try:\n",
    "    from test_config import create_configuration_manager\n",
    "    print(\"✅ test_config module imported\")\n",
    "except ImportError as e:\n",
    "    print(f\"❌ Failed to import test_config: {e}\")\n",
    "\n",
    "# Create configuration\n",
    "try:\n",
    "    config_manager = create_configuration_manager('development')\n",
    "    print(\"✅ Configuration manager created\")\n",
    "    \n",
    "    # Check configuration\n",
    "    is_valid, errors = config_manager.validate_configuration()\n",
    "    if is_valid:\n",
    "        print(\"✅ Configuration is valid\")\n",
    "    else:\n",
    "        print(f\"⚠️ Configuration has warnings: {errors}\")\n",
    "        \n",
    "except Exception as e:\n",
    "    print(f\"❌ Error creating config: {e}\")"
   ]
  }
 ],
 "metadata": {
  "kernelspec": {
   "display_name": ".venv",
   "language": "python",
   "name": "python3"
  },
  "language_info": {
   "codemirror_mode": {
    "name": "ipython",
    "version": 3
   },
   "file_extension": ".py",
   "mimetype": "text/x-python",
   "name": "python",
   "nbconvert_exporter": "python",
   "pygments_lexer": "ipython3",
   "version": "3.11.2"
  }
 },
 "nbformat": 4,
 "nbformat_minor": 4
}
