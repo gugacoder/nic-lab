{
 "cells": [
  {
   "cell_type": "markdown",
   "metadata": {},
   "source": [
    "# 🏗️ FUNDAÇÃO E PREPARAÇÃO\n",
    "\n",
    "Carrega configurações do ambiente e prepara diretórios."
   ]
  },
  {
   "cell_type": "code",
   "execution_count": 1,
   "metadata": {
    "execution": {
     "iopub.execute_input": "2025-08-18T02:30:50.851850Z",
     "iopub.status.busy": "2025-08-18T02:30:50.851634Z",
     "iopub.status.idle": "2025-08-18T02:30:50.865049Z",
     "shell.execute_reply": "2025-08-18T02:30:50.864232Z"
    }
   },
   "outputs": [
    {
     "name": "stdout",
     "output_type": "stream",
     "text": [
      "✅ Configuração carregada e diretórios criados\n"
     ]
    }
   ],
   "source": [
    "import os\n",
    "from pathlib import Path\n",
    "from dotenv import load_dotenv\n",
    "\n",
    "# Carregar .env\n",
    "env_file = f\".env.{os.getenv('ENVIRONMENT', 'development')}\"\n",
    "if Path(f\"../{env_file}\").exists():\n",
    "    load_dotenv(f\"../{env_file}\")\n",
    "elif Path(\"../.env\").exists():\n",
    "    load_dotenv(\"../.env\")\n",
    "\n",
    "# Criar diretórios\n",
    "Path(\"pipeline_data/documents\").mkdir(parents=True, exist_ok=True)\n",
    "Path(\"pipeline_data/processed\").mkdir(parents=True, exist_ok=True)\n",
    "Path(\"pipeline_data/chunks\").mkdir(parents=True, exist_ok=True)\n",
    "Path(\"pipeline_data/embeddings\").mkdir(parents=True, exist_ok=True)\n",
    "\n",
    "print(\"✅ Configuração carregada e diretórios criados\")"
   ]
  }
 ],
 "metadata": {
  "kernelspec": {
   "display_name": "Python 3",
   "language": "python",
   "name": "python3"
  },
  "language_info": {
   "codemirror_mode": {
    "name": "ipython",
    "version": 3
   },
   "file_extension": ".py",
   "mimetype": "text/x-python",
   "name": "python",
   "nbconvert_exporter": "python",
   "pygments_lexer": "ipython3",
   "version": "3.11.2"
  }
 },
 "nbformat": 4,
 "nbformat_minor": 4
}
