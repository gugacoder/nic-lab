{
 "cells": [
  {
   "cell_type": "markdown",
   "metadata": {},
   "source": [
    "# 📥 COLETA GITLAB - Etapa 2/6\n",
    "\n",
    "## 📋 O que este notebook faz\n",
    "\n",
    "Este notebook **baixa documentos do GitLab** para processamento local:\n",
    "\n",
    "- 🔗 **Conecta ao GitLab** usando token de acesso\n",
    "- 📂 **Lista arquivos** da pasta `30-Aprovados` recursivamente  \n",
    "- 🔍 **Filtra tipos** suportados (.pdf, .docx, .md, .txt, .png, .jpg, .jpeg)\n",
    "- 💾 **Baixa preservando** a estrutura original de pastas\n",
    "- 📍 **Salva contexto** do commit atual para rastreabilidade\n",
    "\n",
    "## 🎯 Configuração necessária\n",
    "\n",
    "- `GITLAB_URL` - URL do repositório GitLab\n",
    "- `GITLAB_ACCESS_TOKEN` - Token de acesso (obrigatório)\n",
    "- `GITLAB_TARGET_FOLDER` - Pasta alvo (padrão: \"30-Aprovados\")\n",
    "\n",
    "## 📊 Output esperado\n",
    "\n",
    "~39 arquivos baixados (~0.3MB) em `pipeline-data/documents/` mantendo a estrutura de pastas.\n",
    "\n",
    "---"
   ]
  },
  {
   "cell_type": "markdown",
   "metadata": {},
   "source": [
    "## ⚙️ Configuração e Conexão"
   ]
  },
  {
   "cell_type": "code",
   "execution_count": 1,
   "metadata": {
    "execution": {
     "iopub.execute_input": "2025-08-18T11:51:47.649159Z",
     "iopub.status.busy": "2025-08-18T11:51:47.648959Z",
     "iopub.status.idle": "2025-08-18T11:51:47.725187Z",
     "shell.execute_reply": "2025-08-18T11:51:47.724337Z"
    }
   },
   "outputs": [
    {
     "name": "stdout",
     "output_type": "stream",
     "text": [
      "GitLab: http://gitlab.processa.info\n",
      "Projeto: nic/documentacao/base-de-conhecimento\n",
      "Branch: main\n",
      "Pasta: 30-Aprovados\n"
     ]
    }
   ],
   "source": [
    "import os\n",
    "import sys\n",
    "from pathlib import Path\n",
    "from urllib.parse import urlparse\n",
    "import time\n",
    "from datetime import datetime\n",
    "\n",
    "# Marcar início da execução\n",
    "stage_start = time.time()\n",
    "start_timestamp = datetime.now().isoformat() + \"Z\"\n",
    "\n",
    "# Adicionar src ao path para usar nossa biblioteca customizada\n",
    "sys.path.insert(0, str(Path().parent / \"src\"))\n",
    "from gitlab_client import NicGitlab\n",
    "\n",
    "# Configuração\n",
    "GITLAB_URL = os.getenv(\"GITLAB_URL\", \"http://gitlab.processa.info/nic/documentacao/base-de-conhecimento.git\")\n",
    "GITLAB_TOKEN = os.getenv(\"GITLAB_ACCESS_TOKEN\")\n",
    "GITLAB_BRANCH = os.getenv(\"GITLAB_BRANCH\", \"main\")\n",
    "TARGET_FOLDER = os.getenv(\"GITLAB_TARGET_FOLDER\", \"30-Aprovados\")\n",
    "EXTENSIONS = [\".pdf\", \".docx\", \".md\", \".txt\", \".png\", \".jpg\", \".jpeg\"]\n",
    "\n",
    "if not GITLAB_TOKEN:\n",
    "    raise ValueError(\"GITLAB_ACCESS_TOKEN é obrigatório\")\n",
    "\n",
    "# Extrair informações da URL\n",
    "clean_url = GITLAB_URL.removesuffix(\".git\")\n",
    "parsed = urlparse(clean_url)\n",
    "instance_url = f\"{parsed.scheme}://{parsed.netloc}\"\n",
    "project_path = parsed.path.lstrip(\"/\")\n",
    "branch = GITLAB_BRANCH\n",
    "\n",
    "print(f\"GitLab: {instance_url}\")\n",
    "print(f\"Projeto: {project_path}\")\n",
    "print(f\"Branch: {branch}\")\n",
    "print(f\"Pasta: {TARGET_FOLDER}\")"
   ]
  },
  {
   "cell_type": "code",
   "execution_count": 2,
   "metadata": {
    "execution": {
     "iopub.execute_input": "2025-08-18T11:51:47.773471Z",
     "iopub.status.busy": "2025-08-18T11:51:47.773171Z",
     "iopub.status.idle": "2025-08-18T11:51:48.347192Z",
     "shell.execute_reply": "2025-08-18T11:51:48.346609Z"
    }
   },
   "outputs": [
    {
     "name": "stdout",
     "output_type": "stream",
     "text": [
      "✅ GitLab conectado ok!\n",
      "✅ Projeto do GitLab carregado ok!\n",
      "ID do projeto: 266\n",
      "📍 Commit atual: aeb81ff4\n",
      "Limpando diretório: pipeline-data/documents\n",
      "✅ Diretório limpo!\n",
      "Diretório preparado: pipeline-data/documents\n"
     ]
    }
   ],
   "source": [
    "# Conectar ao GitLab usando nosso cliente customizado\n",
    "gl = NicGitlab(instance_url, private_token=GITLAB_TOKEN)\n",
    "print(\"✅ GitLab conectado ok!\")\n",
    "\n",
    "# Obter projeto diretamente por path (sem busca de ID)\n",
    "project = gl.client.get_project(project_path)\n",
    "print(f\"✅ Projeto do GitLab carregado ok!\")\n",
    "print(f\"ID do projeto: {project.project_id}\")\n",
    "\n",
    "# Obter commit atual\n",
    "try:\n",
    "    commits = project.commits.list(ref_name=branch, per_page=1)\n",
    "    if commits:\n",
    "        commit_hash = commits[0][\"id\"]  # É um dict, não objeto\n",
    "        print(f\"📍 Commit atual: {commit_hash[:8]}\")\n",
    "    else:\n",
    "        commit_hash = \"unknown\"\n",
    "        print(\"⚠️ Não foi possível obter commit\")\n",
    "except Exception as e:\n",
    "    commit_hash = \"unknown\"\n",
    "    print(f\"⚠️ Erro ao obter commit: {e}\")\n",
    "\n",
    "# Criar diretório de destino\n",
    "docs_dir = Path(\"pipeline-data/documents\")\n",
    "docs_dir.mkdir(parents=True, exist_ok=True)\n",
    "\n",
    "# Limpar diretório\n",
    "print(f\"Limpando diretório: {docs_dir}\")\n",
    "for f in docs_dir.glob(\"*\"):\n",
    "    if f.is_file():\n",
    "        f.unlink()\n",
    "print(f\"✅ Diretório limpo!\")\n",
    "\n",
    "print(f\"Diretório preparado: {docs_dir}\")"
   ]
  },
  {
   "cell_type": "markdown",
   "metadata": {},
   "source": [
    "## 🔗 Conexão e Preparação"
   ]
  },
  {
   "cell_type": "code",
   "execution_count": 3,
   "metadata": {
    "execution": {
     "iopub.execute_input": "2025-08-18T11:51:48.348946Z",
     "iopub.status.busy": "2025-08-18T11:51:48.348817Z",
     "iopub.status.idle": "2025-08-18T11:51:48.547627Z",
     "shell.execute_reply": "2025-08-18T11:51:48.546796Z"
    }
   },
   "outputs": [
    {
     "name": "stdout",
     "output_type": "stream",
     "text": [
      "Listando arquivos da pasta: 30-Aprovados\n"
     ]
    },
    {
     "name": "stdout",
     "output_type": "stream",
     "text": [
      "Arquivos encontrados: 1\n",
      "Arquivos filtrados: 39\n",
      "  30-Aprovados/Anexos/Imagens Self Checkout/FIgura 7 - Opção Menu.jpg\n",
      "  30-Aprovados/Anexos/Imagens Self Checkout/Figura 1 – Interface inicial do Self Checkout.jpg\n",
      "  30-Aprovados/Anexos/Imagens Self Checkout/Figura 2 – Interface de identificação do cliente.jpg\n",
      "  30-Aprovados/Anexos/Imagens Self Checkout/Figura 3 – Interface para registro do produto.jpg\n",
      "  30-Aprovados/Anexos/Imagens Self Checkout/Figura 4 - Msg produto na cesta.jpg\n",
      "  30-Aprovados/Anexos/Imagens Self Checkout/Figura 5 - Escolher a forma de pagamento.jpg\n",
      "  30-Aprovados/Anexos/Imagens Self Checkout/Figura 6 – Opção para Ajuda.jpg\n",
      "  30-Aprovados/Anexos/Imagens Self Checkout/Figura 8 - Autenticacao do Menu.jpg\n",
      "  30-Aprovados/Mapas/Processa Sistemas.md\n",
      "  30-Aprovados/Mapas/Visão Geral do NIC.md\n",
      "  ... e mais 29 arquivos\n"
     ]
    }
   ],
   "source": [
    "# Listar e filtrar arquivos\n",
    "def list_files_recursive(project, path=\"\", branch=\"main\"):\n",
    "    \"\"\"Lista arquivos recursivamente em uma pasta\"\"\"\n",
    "    files = []\n",
    "    try:\n",
    "        items = project.repository_tree(path=path, ref=branch, all=True)\n",
    "        for item in items:\n",
    "            if item[\"type\"] == \"blob\":\n",
    "                files.append({\n",
    "                    \"name\": item[\"name\"],\n",
    "                    \"path\": item[\"path\"],\n",
    "                    \"size\": 0  # GitLab API não retorna tamanho na listagem\n",
    "                })\n",
    "    except Exception as e:\n",
    "        print(f\"Erro ao listar {path}: {e}\")\n",
    "    return files\n",
    "\n",
    "# Listar arquivos na pasta alvo\n",
    "print(f\"Listando arquivos da pasta: {TARGET_FOLDER}\")\n",
    "all_files = list_files_recursive(project, TARGET_FOLDER)\n",
    "\n",
    "# Filtrar por extensão\n",
    "filtered_files = [\n",
    "    {\"name\": i[\"name\"], \"path\": i[\"path\"], \"size\": 0}\n",
    "    for i in project.repository_tree(path=TARGET_FOLDER, ref=branch, recursive=True, all=True, per_page=100)\n",
    "    if i.get(\"type\") == \"blob\" and any(i[\"name\"].lower().endswith(ext.lower()) for ext in EXTENSIONS)\n",
    "]\n",
    "\n",
    "print(f\"Arquivos encontrados: {len(all_files)}\")\n",
    "print(f\"Arquivos filtrados: {len(filtered_files)}\")\n",
    "\n",
    "for f in filtered_files[:10]:  # Mostrar primeiros 10\n",
    "    print(f\"  {f['path']}\")\n",
    "if len(filtered_files) > 10:\n",
    "    print(f\"  ... e mais {len(filtered_files) - 10} arquivos\")"
   ]
  },
  {
   "cell_type": "markdown",
   "metadata": {},
   "source": [
    "## 📂 Descoberta de Arquivos"
   ]
  },
  {
   "cell_type": "code",
   "execution_count": 4,
   "metadata": {
    "execution": {
     "iopub.execute_input": "2025-08-18T11:51:48.550041Z",
     "iopub.status.busy": "2025-08-18T11:51:48.549837Z",
     "iopub.status.idle": "2025-08-18T11:52:10.092697Z",
     "shell.execute_reply": "2025-08-18T11:52:10.092132Z"
    }
   },
   "outputs": [
    {
     "name": "stdout",
     "output_type": "stream",
     "text": [
      "✅ 30-Aprovados/Anexos/Imagens Self Checkout/FIgura 7 - Opção Menu.jpg (26.6 KB)\n"
     ]
    },
    {
     "name": "stdout",
     "output_type": "stream",
     "text": [
      "✅ 30-Aprovados/Anexos/Imagens Self Checkout/Figura 1 – Interface inicial do Self Checkout.jpg (26.9 KB)\n"
     ]
    },
    {
     "name": "stdout",
     "output_type": "stream",
     "text": [
      "✅ 30-Aprovados/Anexos/Imagens Self Checkout/Figura 2 – Interface de identificação do cliente.jpg (25.3 KB)\n",
      "✅ 30-Aprovados/Anexos/Imagens Self Checkout/Figura 3 – Interface para registro do produto.jpg (37.9 KB)\n"
     ]
    },
    {
     "name": "stdout",
     "output_type": "stream",
     "text": [
      "✅ 30-Aprovados/Anexos/Imagens Self Checkout/Figura 4 - Msg produto na cesta.jpg (23.4 KB)\n",
      "✅ 30-Aprovados/Anexos/Imagens Self Checkout/Figura 5 - Escolher a forma de pagamento.jpg (32.6 KB)\n"
     ]
    },
    {
     "name": "stdout",
     "output_type": "stream",
     "text": [
      "✅ 30-Aprovados/Anexos/Imagens Self Checkout/Figura 6 – Opção para Ajuda.jpg (23.7 KB)\n",
      "✅ 30-Aprovados/Anexos/Imagens Self Checkout/Figura 8 - Autenticacao do Menu.jpg (27.1 KB)\n"
     ]
    },
    {
     "name": "stdout",
     "output_type": "stream",
     "text": [
      "✅ 30-Aprovados/Mapas/Processa Sistemas.md (4.2 KB)\n",
      "✅ 30-Aprovados/Mapas/Visão Geral do NIC.md (4.6 KB)\n"
     ]
    },
    {
     "name": "stdout",
     "output_type": "stream",
     "text": [
      "✅ 30-Aprovados/Mapas/Visão Geral do Self Checkout.md (14.4 KB)\n"
     ]
    },
    {
     "name": "stdout",
     "output_type": "stream",
     "text": [
      "✅ 30-Aprovados/Tópicos/Acesso ao menu do fiscal.md (3.5 KB)\n",
      "✅ 30-Aprovados/Tópicos/Aplicação de desconto por item.md (2.5 KB)\n"
     ]
    },
    {
     "name": "stdout",
     "output_type": "stream",
     "text": [
      "✅ 30-Aprovados/Tópicos/Apresentação do sistema Self Checkout.md (2.5 KB)\n",
      "✅ 30-Aprovados/Tópicos/Cancelamento de cupom.md (2.7 KB)\n"
     ]
    },
    {
     "name": "stdout",
     "output_type": "stream",
     "text": [
      "✅ 30-Aprovados/Tópicos/Cancelamento de item.md (1.7 KB)\n",
      "✅ 30-Aprovados/Tópicos/Componentes principais do sistema.md (6.3 KB)\n"
     ]
    },
    {
     "name": "stdout",
     "output_type": "stream",
     "text": [
      "✅ 30-Aprovados/Tópicos/Cronograma e marcos do projeto.md (3.6 KB)\n",
      "✅ 30-Aprovados/Tópicos/Efetuar pagamento.md (2.9 KB)\n"
     ]
    },
    {
     "name": "stdout",
     "output_type": "stream",
     "text": [
      "✅ 30-Aprovados/Tópicos/Estratégia de implantação e adoção.md (3.6 KB)\n",
      "✅ 30-Aprovados/Tópicos/Estrutura e fluxo da base de conhecimento.md (3.0 KB)\n"
     ]
    },
    {
     "name": "stdout",
     "output_type": "stream",
     "text": [
      "✅ 30-Aprovados/Tópicos/Finalidade e visão do NIC.md (4.3 KB)\n",
      "✅ 30-Aprovados/Tópicos/Finalização do movimento diário.md (1.8 KB)\n"
     ]
    },
    {
     "name": "stdout",
     "output_type": "stream",
     "text": [
      "✅ 30-Aprovados/Tópicos/Funcionalidade do bloqueio.md (3.3 KB)\n",
      "✅ 30-Aprovados/Tópicos/Função do Chat NIC.md (2.9 KB)\n"
     ]
    },
    {
     "name": "stdout",
     "output_type": "stream",
     "text": [
      "✅ 30-Aprovados/Tópicos/Governança e papéis organizacionais.md (3.3 KB)\n",
      "✅ 30-Aprovados/Tópicos/Histórico de atualizações Self Checkout.md (2.0 KB)\n"
     ]
    },
    {
     "name": "stdout",
     "output_type": "stream",
     "text": [
      "✅ 30-Aprovados/Tópicos/Identificação do cliente.md (2.4 KB)\n",
      "✅ 30-Aprovados/Tópicos/Infraestrutura técnica e operacional.md (2.9 KB)\n"
     ]
    },
    {
     "name": "stdout",
     "output_type": "stream",
     "text": [
      "✅ 30-Aprovados/Tópicos/Iniciar a compra.md (0.8 KB)\n",
      "✅ 30-Aprovados/Tópicos/Operação contínua e evolução do sistema.md (2.3 KB)\n"
     ]
    },
    {
     "name": "stdout",
     "output_type": "stream",
     "text": [
      "✅ 30-Aprovados/Tópicos/Padrões de Documentação do NIC.md (5.2 KB)\n",
      "✅ 30-Aprovados/Tópicos/Processo de documentação e validação.md (3.3 KB)\n"
     ]
    },
    {
     "name": "stdout",
     "output_type": "stream",
     "text": [
      "✅ 30-Aprovados/Tópicos/Propósito do NIC.md (4.2 KB)\n",
      "✅ 30-Aprovados/Tópicos/Pré-requisitos técnicos.md (5.6 KB)\n"
     ]
    },
    {
     "name": "stdout",
     "output_type": "stream",
     "text": [
      "✅ 30-Aprovados/Tópicos/Registro de produtos.md (2.7 KB)\n",
      "✅ 30-Aprovados/Tópicos/Reimpressão do último cupom.md (1.5 KB)\n"
     ]
    },
    {
     "name": "stdout",
     "output_type": "stream",
     "text": [
      "✅ 30-Aprovados/Tópicos/Retornar para registro de venda.md (2.9 KB)\n",
      "✅ 30-Aprovados/Tópicos/Solicitação de ajuda.md (2.1 KB)\n",
      "\n",
      "📊 Resumo:\n",
      "  Baixados: 39\n",
      "  Erros: 0\n",
      "  Tamanho total: 0.3 MB\n"
     ]
    }
   ],
   "source": [
    "# Baixar arquivos preservando a estrutura de pastas\n",
    "downloaded = 0\n",
    "errors = []\n",
    "total_size = 0\n",
    "\n",
    "for file_info in filtered_files:\n",
    "    try:\n",
    "        # Obter conteúdo do arquivo usando nosso cliente customizado\n",
    "        content = project.download_file_raw(file_path=file_info[\"path\"], ref=branch)\n",
    "\n",
    "        # Caminho local com subpastas reproduzidas\n",
    "        local_path = docs_dir / Path(file_info[\"path\"])\n",
    "        local_path.parent.mkdir(parents=True, exist_ok=True)\n",
    "\n",
    "        # Salvar\n",
    "        with open(local_path, \"wb\") as f:\n",
    "            f.write(content)\n",
    "\n",
    "        file_size = len(content)\n",
    "        total_size += file_size\n",
    "        downloaded += 1\n",
    "\n",
    "        print(f\"✅ {file_info['path']} ({file_size/1024:.1f} KB)\")\n",
    "\n",
    "    except Exception as e:\n",
    "        errors.append(f\"{file_info['path']}: {str(e)}\")\n",
    "        print(f\"❌ {file_info['path']}: {str(e)}\")\n",
    "\n",
    "print(f\"\\n📊 Resumo:\")\n",
    "print(f\"  Baixados: {downloaded}\")\n",
    "print(f\"  Erros: {len(errors)}\")\n",
    "print(f\"  Tamanho total: {total_size/1024/1024:.1f} MB\")\n",
    "\n",
    "if errors:\n",
    "    print(\"\\n❌ Erros:\")\n",
    "    for error in errors[:5]:\n",
    "        print(f\"  {error}\")"
   ]
  },
  {
   "cell_type": "markdown",
   "metadata": {},
   "source": [
    "## 💾 Download e Armazenamento"
   ]
  },
  {
   "cell_type": "code",
   "execution_count": 5,
   "metadata": {
    "execution": {
     "iopub.execute_input": "2025-08-18T11:52:10.094541Z",
     "iopub.status.busy": "2025-08-18T11:52:10.094380Z",
     "iopub.status.idle": "2025-08-18T11:52:10.098597Z",
     "shell.execute_reply": "2025-08-18T11:52:10.098051Z"
    }
   },
   "outputs": [
    {
     "name": "stdout",
     "output_type": "stream",
     "text": [
      "✅ Commit e9c8a430 salvo em pipeline-data/context.json\n"
     ]
    }
   ],
   "source": [
    "# Salvar informação de commit para outros notebooks\n",
    "import json\n",
    "\n",
    "context_dir = Path(\"pipeline-data\")\n",
    "context_dir.mkdir(exist_ok=True)\n",
    "\n",
    "context = {\"gitlab_commit\": commit_hash}\n",
    "\n",
    "with open(context_dir / \"context.json\", \"w\") as f:\n",
    "    json.dump(context, f, indent=2)\n",
    "\n",
    "print(f\"✅ Commit {commit_hash[:8]} salvo em pipeline-data/context.json\")"
   ]
  },
  {
   "cell_type": "markdown",
   "metadata": {},
   "source": [
    "## 📊 Relatório de Execução"
   ]
  },
  {
   "cell_type": "code",
   "execution_count": 6,
   "metadata": {
    "execution": {
     "iopub.execute_input": "2025-08-18T11:52:10.100460Z",
     "iopub.status.busy": "2025-08-18T11:52:10.100290Z",
     "iopub.status.idle": "2025-08-18T11:52:10.106905Z",
     "shell.execute_reply": "2025-08-18T11:52:10.106396Z"
    }
   },
   "outputs": [
    {
     "name": "stdout",
     "output_type": "stream",
     "text": [
      "📊 Relatório atualizado: pipeline-data/report.json\n",
      "⏱️ Duração da etapa: 22.45s\n"
     ]
    }
   ],
   "source": [
    "# Calcular duração\n",
    "stage_duration = time.time() - stage_start\n",
    "\n",
    "# Carregar relatório existente\n",
    "report_path = Path(\"pipeline-data/report.json\")\n",
    "if report_path.exists():\n",
    "    with open(report_path, \"r\") as f:\n",
    "        report = json.load(f)\n",
    "else:\n",
    "    report = {\"stages\": [], \"context\": {}, \"summary\": {}}\n",
    "\n",
    "# Atualizar contexto com informações do GitLab\n",
    "report[\"context\"].update({\n",
    "    \"repository\": project_path,\n",
    "    \"gitlab_url\": instance_url,\n",
    "    \"branch\": branch,\n",
    "    \"commit\": commit_hash,\n",
    "    \"target_folder\": TARGET_FOLDER\n",
    "})\n",
    "\n",
    "# Adicionar informações desta etapa\n",
    "stage_report = {\n",
    "    \"stage\": 2,\n",
    "    \"name\": \"Coleta GitLab\",\n",
    "    \"status\": \"SUCCESS\" if len(errors) == 0 else \"FAILED\",\n",
    "    \"start_time\": start_timestamp,\n",
    "    \"duration_seconds\": round(stage_duration, 2),\n",
    "    \"results\": {\n",
    "        \"project_id\": project.project_id,\n",
    "        \"files_found\": len(filtered_files),\n",
    "        \"files_downloaded\": downloaded,\n",
    "        \"download_errors\": len(errors),\n",
    "        \"total_size_mb\": round(total_size/1024/1024, 2)\n",
    "    }\n",
    "}\n",
    "\n",
    "# Se houve erros, adicionar detalhes\n",
    "if errors:\n",
    "    stage_report[\"errors\"] = errors[:5]  # Limitar a 5 erros\n",
    "\n",
    "# Adicionar ou atualizar stage no relatório\n",
    "stages_updated = False\n",
    "for i, stage in enumerate(report[\"stages\"]):\n",
    "    if stage[\"stage\"] == 2:\n",
    "        report[\"stages\"][i] = stage_report\n",
    "        stages_updated = True\n",
    "        break\n",
    "\n",
    "if not stages_updated:\n",
    "    report[\"stages\"].append(stage_report)\n",
    "\n",
    "# Atualizar timestamp\n",
    "report[\"summary\"][\"last_update\"] = datetime.now().isoformat() + \"Z\"\n",
    "\n",
    "# Salvar relatório atualizado\n",
    "with open(report_path, \"w\") as f:\n",
    "    json.dump(report, f, indent=2, ensure_ascii=False)\n",
    "\n",
    "print(f\"📊 Relatório atualizado: {report_path}\")\n",
    "print(f\"⏱️ Duração da etapa: {stage_duration:.2f}s\")"
   ]
  }
 ],
 "metadata": {
  "kernelspec": {
   "display_name": ".venv",
   "language": "python",
   "name": "python3"
  },
  "language_info": {
   "codemirror_mode": {
    "name": "ipython",
    "version": 3
   },
   "file_extension": ".py",
   "mimetype": "text/x-python",
   "name": "python",
   "nbconvert_exporter": "python",
   "pygments_lexer": "ipython3",
   "version": "3.11.2"
  }
 },
 "nbformat": 4,
 "nbformat_minor": 4
}
