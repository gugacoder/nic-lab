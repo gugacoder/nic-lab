{
 "cells": [
  {
   "cell_type": "markdown",
   "metadata": {},
   "source": [
    "# 🧠 GERAÇÃO DE EMBEDDINGS\n",
    "\n",
    "Converte chunks de texto em vetores usando BAAI/bge-m3."
   ]
  },
  {
   "cell_type": "code",
   "execution_count": null,
   "metadata": {},
   "outputs": [],
   "source": [
    "import os\n",
    "import json\n",
    "from pathlib import Path\n",
    "from sentence_transformers import SentenceTransformer\n",
    "import numpy as np\n",
    "\n",
    "# Configuração\n",
    "MODEL_NAME = os.getenv(\"EMBEDDING_MODEL\", \"BAAI/bge-m3\")\n",
    "BATCH_SIZE = int(os.getenv(\"BATCH_SIZE\", \"32\"))\n",
    "\n",
    "# Diretórios\n",
    "chunks_dir = Path(\"pipeline_data/chunks\")\n",
    "embeddings_dir = Path(\"pipeline_data/embeddings\")\n",
    "embeddings_dir.mkdir(parents=True, exist_ok=True)\n",
    "\n",
    "# Limpar diretório embeddings\n",
    "for f in embeddings_dir.glob(\"*\"):\n",
    "    if f.is_file():\n",
    "        f.unlink()\n",
    "\n",
    "print(f\"Modelo: {MODEL_NAME}\")\n",
    "print(f\"Batch size: {BATCH_SIZE}\")"
   ]
  },
  {
   "cell_type": "code",
   "execution_count": null,
   "metadata": {},
   "outputs": [],
   "source": [
    "# Carregar modelo\n",
    "print(\"Carregando modelo de embeddings...\")\n",
    "model = SentenceTransformer(MODEL_NAME)\n",
    "embedding_dim = model.get_sentence_embedding_dimension()\n",
    "\n",
    "print(f\"✅ Modelo carregado: {MODEL_NAME}\")\n",
    "print(f\"Dimensões: {embedding_dim}\")"
   ]
  },
  {
   "cell_type": "code",
   "execution_count": null,
   "metadata": {},
   "outputs": [],
   "source": [
    "# Carregar chunks\n",
    "chunks_file = chunks_dir / \"chunks.jsonl\"\n",
    "\n",
    "if not chunks_file.exists():\n",
    "    raise FileNotFoundError(f\"Arquivo de chunks não encontrado: {chunks_file}\")\n",
    "\n",
    "chunks = []\n",
    "with open(chunks_file, \"r\", encoding=\"utf-8\") as f:\n",
    "    for line in f:\n",
    "        chunk = json.loads(line)\n",
    "        chunks.append(chunk)\n",
    "\n",
    "print(f\"Chunks carregados: {len(chunks)}\")\n",
    "\n",
    "# Mostrar alguns exemplos\n",
    "for i, chunk in enumerate(chunks[:3]):\n",
    "    preview = chunk[\"text\"][:50] + \"...\" if len(chunk[\"text\"]) > 50 else chunk[\"text\"]\n",
    "    print(f\"  {i+1}. {preview}\")"
   ]
  },
  {
   "cell_type": "code",
   "execution_count": null,
   "metadata": {},
   "outputs": [],
   "source": [
    "# Gerar embeddings\n",
    "print(\"Gerando embeddings...\")\n",
    "\n",
    "# Extrair textos dos chunks\n",
    "texts = [chunk[\"text\"] for chunk in chunks]\n",
    "\n",
    "# Gerar embeddings em lotes\n",
    "embeddings = model.encode(\n",
    "    texts,\n",
    "    batch_size=BATCH_SIZE,\n",
    "    show_progress_bar=True,\n",
    "    normalize_embeddings=True\n",
    ")\n",
    "\n",
    "print(f\"✅ Embeddings gerados: {len(embeddings)}\")\n",
    "print(f\"Formato: {embeddings.shape}\")"
   ]
  },
  {
   "cell_type": "code",
   "execution_count": null,
   "metadata": {},
   "outputs": [],
   "source": [
    "# Combinar chunks com embeddings\n",
    "chunks_with_embeddings = []\n",
    "\n",
    "for chunk, embedding in zip(chunks, embeddings):\n",
    "    chunk_with_embedding = {\n",
    "        \"chunk_id\": chunk[\"chunk_id\"],\n",
    "        \"source_document\": chunk[\"source_document\"],\n",
    "        \"chunk_index\": chunk[\"chunk_index\"],\n",
    "        \"text\": chunk[\"text\"],\n",
    "        \"char_count\": chunk[\"char_count\"],\n",
    "        \"embedding\": embedding.tolist(),\n",
    "        \"embedding_model\": MODEL_NAME,\n",
    "        \"embedding_dimensions\": len(embedding)\n",
    "    }\n",
    "    chunks_with_embeddings.append(chunk_with_embedding)\n",
    "\n",
    "print(f\"Chunks com embeddings: {len(chunks_with_embeddings)}\")"
   ]
  },
  {
   "cell_type": "code",
   "execution_count": null,
   "metadata": {},
   "outputs": [],
   "source": [
    "# Salvar embeddings\n",
    "embeddings_file = embeddings_dir / \"embeddings.jsonl\"\n",
    "\n",
    "with open(embeddings_file, \"w\", encoding=\"utf-8\") as f:\n",
    "    for chunk_data in chunks_with_embeddings:\n",
    "        f.write(json.dumps(chunk_data, ensure_ascii=False) + \"\\n\")\n",
    "\n",
    "print(f\"✅ Embeddings salvos: {embeddings_file}\")\n",
    "\n",
    "# Estatísticas\n",
    "total_size_mb = (len(chunks_with_embeddings) * embedding_dim * 4) / (1024 * 1024)  # float32\n",
    "avg_magnitude = np.mean([np.linalg.norm(chunk[\"embedding\"]) for chunk in chunks_with_embeddings])\n",
    "\n",
    "print(f\"\\n📊 Estatísticas:\")\n",
    "print(f\"  Total embeddings: {len(chunks_with_embeddings)}\")\n",
    "print(f\"  Dimensões: {embedding_dim}\")\n",
    "print(f\"  Tamanho total: {total_size_mb:.1f} MB\")\n",
    "print(f\"  Magnitude média: {avg_magnitude:.3f}\")\n",
    "print(f\"  Modelo: {MODEL_NAME}\")"
   ]
  }
 ],
 "metadata": {
  "kernelspec": {
   "display_name": "Python 3",
   "language": "python",
   "name": "python3"
  },
  "language_info": {
   "codemirror_mode": {
    "name": "ipython",
    "version": 3
   },
   "file_extension": ".py",
   "mimetype": "text/x-python",
   "name": "python",
   "nbconvert_exporter": "python",
   "pygments_lexer": "ipython3",
   "version": "3.11.0"
  }
 },
 "nbformat": 4,
 "nbformat_minor": 4
}