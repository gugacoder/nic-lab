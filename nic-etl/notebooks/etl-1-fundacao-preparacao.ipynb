{
 "cells": [
  {
   "cell_type": "markdown",
   "metadata": {},
   "source": [
    "# 🏗️ FUNDAÇÃO E PREPARAÇÃO - Etapa 1/6\n",
    "\n",
    "## 📋 O que este notebook faz\n",
    "\n",
    "Este notebook **inicializa o ambiente** e prepara a infraestrutura para todo o pipeline:\n",
    "\n",
    "- 🔧 **Carrega configurações** do arquivo `.env` (development/staging/production)\n",
    "- 📁 **Cria diretórios** necessários para armazenar dados do pipeline\n",
    "- ✅ **Valida setup** - garante que tudo está pronto para as próximas etapas\n",
    "\n",
    "## 📂 Estrutura criada\n",
    "\n",
    "```\n",
    "pipeline-data/\n",
    "├── documents/   # ← GitLab baixará aqui\n",
    "├── processed/   # ← Docling processará aqui  \n",
    "├── chunks/      # ← Segmentação salvará aqui\n",
    "└── embeddings/  # ← Vetores ficarão aqui\n",
    "```\n"
   ]
  },
  {
   "cell_type": "markdown",
   "metadata": {},
   "source": [
    "## ⏱️ Inicialização"
   ]
  },
  {
   "cell_type": "code",
   "execution_count": 1,
   "metadata": {
    "execution": {
     "iopub.execute_input": "2025-08-18T07:09:13.635314Z",
     "iopub.status.busy": "2025-08-18T07:09:13.635120Z",
     "iopub.status.idle": "2025-08-18T07:09:13.640745Z",
     "shell.execute_reply": "2025-08-18T07:09:13.640198Z"
    }
   },
   "outputs": [],
   "source": [
    "import time\n",
    "from datetime import datetime\n",
    "\n",
    "# Marcar início da execução\n",
    "stage_start = time.time()\n",
    "start_timestamp = datetime.now().isoformat() + \"Z\""
   ]
  },
  {
   "cell_type": "code",
   "execution_count": 2,
   "metadata": {
    "execution": {
     "iopub.execute_input": "2025-08-18T07:09:13.642572Z",
     "iopub.status.busy": "2025-08-18T07:09:13.642402Z",
     "iopub.status.idle": "2025-08-18T07:09:13.649917Z",
     "shell.execute_reply": "2025-08-18T07:09:13.649447Z"
    }
   },
   "outputs": [
    {
     "name": "stdout",
     "output_type": "stream",
     "text": [
      "✅ Configuração carregada e diretórios criados\n"
     ]
    }
   ],
   "source": [
    "import os\n",
    "from pathlib import Path\n",
    "from dotenv import load_dotenv\n",
    "\n",
    "# Carregar .env\n",
    "env_file = f\".env.{os.getenv('ENVIRONMENT', 'development')}\"\n",
    "if Path(f\"../{env_file}\").exists():\n",
    "    load_dotenv(f\"../{env_file}\")\n",
    "elif Path(\"../.env\").exists():\n",
    "    load_dotenv(\"../.env\")\n",
    "\n",
    "# Criar diretórios\n",
    "Path(\"pipeline-data/documents\").mkdir(parents=True, exist_ok=True)\n",
    "Path(\"pipeline-data/processed\").mkdir(parents=True, exist_ok=True)\n",
    "Path(\"pipeline-data/chunks\").mkdir(parents=True, exist_ok=True)\n",
    "Path(\"pipeline-data/embeddings\").mkdir(parents=True, exist_ok=True)\n",
    "\n",
    "print(\"✅ Configuração carregada e diretórios criados\")"
   ]
  },
  {
   "cell_type": "markdown",
   "metadata": {},
   "source": [
    "## 📊 Relatório de Execução"
   ]
  },
  {
   "cell_type": "code",
   "execution_count": 3,
   "metadata": {
    "execution": {
     "iopub.execute_input": "2025-08-18T07:09:13.678533Z",
     "iopub.status.busy": "2025-08-18T07:09:13.678263Z",
     "iopub.status.idle": "2025-08-18T07:09:13.683158Z",
     "shell.execute_reply": "2025-08-18T07:09:13.682716Z"
    }
   },
   "outputs": [
    {
     "name": "stdout",
     "output_type": "stream",
     "text": [
      "📊 Relatório iniciado: pipeline-data/report.json\n",
      "⏱️ Duração da etapa: 0.04s\n"
     ]
    }
   ],
   "source": [
    "import json\n",
    "\n",
    "# Calcular duração\n",
    "stage_duration = time.time() - stage_start\n",
    "\n",
    "# Criar estrutura inicial do relatório\n",
    "report = {\n",
    "    \"pipeline_info\": {\n",
    "        \"version\": \"1.0.0\",\n",
    "        \"last_execution\": start_timestamp,\n",
    "        \"environment\": os.getenv('ENVIRONMENT', 'development')\n",
    "    },\n",
    "    \"context\": {},  # Será preenchido nos próximos notebooks\n",
    "    \"stages\": [\n",
    "        {\n",
    "            \"stage\": 1,\n",
    "            \"name\": \"Fundação e Preparação\",\n",
    "            \"status\": \"SUCCESS\",\n",
    "            \"start_time\": start_timestamp,\n",
    "            \"duration_seconds\": round(stage_duration, 2),\n",
    "            \"results\": {\n",
    "                \"directories_created\": 4,\n",
    "                \"environment_loaded\": True,\n",
    "                \"config_source\": f\".env.{os.getenv('ENVIRONMENT', 'development')}\"\n",
    "            }\n",
    "        }\n",
    "    ],\n",
    "    \"summary\": {\n",
    "        \"pipeline_status\": \"IN_PROGRESS\",\n",
    "        \"last_update\": datetime.now().isoformat() + \"Z\"\n",
    "    }\n",
    "}\n",
    "\n",
    "# Salvar relatório\n",
    "report_path = Path(\"pipeline-data/report.json\")\n",
    "with open(report_path, \"w\") as f:\n",
    "    json.dump(report, f, indent=2, ensure_ascii=False)\n",
    "\n",
    "print(f\"📊 Relatório iniciado: {report_path}\")\n",
    "print(f\"⏱️ Duração da etapa: {stage_duration:.2f}s\")"
   ]
  }
 ],
 "metadata": {
  "kernelspec": {
   "display_name": "Python 3",
   "language": "python",
   "name": "python3"
  },
  "language_info": {
   "codemirror_mode": {
    "name": "ipython",
    "version": 3
   },
   "file_extension": ".py",
   "mimetype": "text/x-python",
   "name": "python",
   "nbconvert_exporter": "python",
   "pygments_lexer": "ipython3",
   "version": "3.11.2"
  }
 },
 "nbformat": 4,
 "nbformat_minor": 4
}
