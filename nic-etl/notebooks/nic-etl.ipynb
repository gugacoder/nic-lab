{
 "cells": [
  {
   "cell_type": "markdown",
   "metadata": {},
   "source": [
    "# 🚀 NIC ETL\n",
    "\n",
    "Executa todos os notebooks do pipeline NIC ETL em sequência."
   ]
  },
  {
   "cell_type": "code",
   "execution_count": 4,
   "metadata": {},
   "outputs": [
    {
     "name": "stdout",
     "output_type": "stream",
     "text": [
      "🚀 Iniciando Pipeline NIC ETL\n",
      "Total de etapas: 6\n",
      "==================================================\n"
     ]
    }
   ],
   "source": [
    "import subprocess\n",
    "import sys\n",
    "from pathlib import Path\n",
    "\n",
    "# Notebooks do pipeline\n",
    "notebooks = [\n",
    "    \"nic-etl-1-fundacao-preparacao.ipynb\",\n",
    "    \"nic-etl-2-coleta-gitlab.ipynb\",\n",
    "    \"nic-etl-3-processamento-docling.ipynb\",\n",
    "    \"nic-etl-4-segmentacao-chunks.ipynb\",\n",
    "    \"nic-etl-5-geracao-embeddings.ipynb\",\n",
    "    \"nic-etl-6-armazenamento-qdrant.ipynb\"\n",
    "]\n",
    "\n",
    "print(\"🚀 Iniciando Pipeline NIC ETL\")\n",
    "print(f\"Total de etapas: {len(notebooks)}\")\n",
    "print(\"=\"*50)"
   ]
  },
  {
   "cell_type": "code",
   "execution_count": 5,
   "metadata": {},
   "outputs": [
    {
     "name": "stdout",
     "output_type": "stream",
     "text": [
      "\n",
      "📋 Etapa 1/6: nic-etl-1-fundacao-preparacao.ipynb\n"
     ]
    },
    {
     "name": "stdout",
     "output_type": "stream",
     "text": [
      "✅ nic-etl-1-fundacao-preparacao.ipynb executado com sucesso\n",
      "----------------------------------------\n",
      "\n",
      "📋 Etapa 2/6: nic-etl-2-coleta-gitlab.ipynb\n",
      "✅ nic-etl-2-coleta-gitlab.ipynb executado com sucesso\n",
      "----------------------------------------\n",
      "\n",
      "📋 Etapa 3/6: nic-etl-3-processamento-docling.ipynb\n",
      "✅ nic-etl-3-processamento-docling.ipynb executado com sucesso\n",
      "----------------------------------------\n",
      "\n",
      "📋 Etapa 4/6: nic-etl-4-segmentacao-chunks.ipynb\n",
      "✅ nic-etl-4-segmentacao-chunks.ipynb executado com sucesso\n",
      "----------------------------------------\n",
      "\n",
      "📋 Etapa 5/6: nic-etl-5-geracao-embeddings.ipynb\n",
      "✅ nic-etl-5-geracao-embeddings.ipynb executado com sucesso\n",
      "----------------------------------------\n",
      "\n",
      "📋 Etapa 6/6: nic-etl-6-armazenamento-qdrant.ipynb\n",
      "✅ nic-etl-6-armazenamento-qdrant.ipynb executado com sucesso\n",
      "----------------------------------------\n",
      "\n",
      "🎉 Pipeline NIC ETL concluído com sucesso!\n",
      "📊 Todas as etapas foram executadas\n",
      "💾 Dados processados e armazenados no Qdrant\n"
     ]
    }
   ],
   "source": [
    "# Executar notebooks em sequência\n",
    "for i, notebook in enumerate(notebooks, 1):\n",
    "    print(f\"📋 Etapa {i}/{len(notebooks)}: {notebook}\")\n",
    "    \n",
    "    try:\n",
    "        # Executar notebook\n",
    "        result = subprocess.run([\n",
    "            \"jupyter\", \"nbconvert\", \n",
    "            \"--to\", \"notebook\",\n",
    "            \"--execute\",\n",
    "            \"--inplace\",\n",
    "            notebook\n",
    "        ], capture_output=True, text=True, check=True)\n",
    "        \n",
    "        print(f\"✅ {notebook} executado com sucesso\")\n",
    "        \n",
    "    except subprocess.CalledProcessError as e:\n",
    "        print(f\"❌ Erro ao executar {notebook}:\")\n",
    "        print(f\"Stdout: {e.stdout}\")\n",
    "        print(f\"Stderr: {e.stderr}\")\n",
    "        \n",
    "        # Parar execução em caso de erro\n",
    "        print(\"\\n🛑 Pipeline interrompido devido a erro\")\n",
    "        break\n",
    "    \n",
    "    except Exception as e:\n",
    "        print(f\"❌ Erro inesperado: {str(e)}\")\n",
    "        break\n",
    "\n",
    "    print(\"-\" * 40)\n",
    "\n",
    "else:\n",
    "    print(\"\\n🎉 Pipeline NIC ETL concluído com sucesso!\")\n",
    "    print(\"📊 Todas as etapas foram executadas\")\n",
    "    print(\"💾 Dados processados e armazenados no Qdrant\")"
   ]
  }
 ],
 "metadata": {
  "kernelspec": {
   "display_name": ".venv",
   "language": "python",
   "name": "python3"
  },
  "language_info": {
   "codemirror_mode": {
    "name": "ipython",
    "version": 3
   },
   "file_extension": ".py",
   "mimetype": "text/x-python",
   "name": "python",
   "nbconvert_exporter": "python",
   "pygments_lexer": "ipython3",
   "version": "3.11.2"
  }
 },
 "nbformat": 4,
 "nbformat_minor": 4
}
