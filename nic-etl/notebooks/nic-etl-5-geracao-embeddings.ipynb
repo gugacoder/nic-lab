{
 "cells": [
  {
   "cell_type": "markdown",
   "metadata": {},
   "source": [
    "# 🧠 GERAÇÃO DE EMBEDDINGS\n",
    "\n",
    "Converte chunks de texto em vetores usando BAAI/bge-m3."
   ]
  },
  {
   "cell_type": "code",
   "execution_count": 1,
   "metadata": {
    "execution": {
     "iopub.execute_input": "2025-08-18T02:31:15.271116Z",
     "iopub.status.busy": "2025-08-18T02:31:15.270917Z",
     "iopub.status.idle": "2025-08-18T02:31:20.651212Z",
     "shell.execute_reply": "2025-08-18T02:31:20.650690Z"
    }
   },
   "outputs": [
    {
     "name": "stdout",
     "output_type": "stream",
     "text": [
      "Modelo: BAAI/bge-m3\n",
      "Batch size: 32\n"
     ]
    }
   ],
   "source": [
    "import os\n",
    "import json\n",
    "from pathlib import Path\n",
    "from sentence_transformers import SentenceTransformer\n",
    "import numpy as np\n",
    "\n",
    "# Configuração\n",
    "MODEL_NAME = os.getenv(\"EMBEDDING_MODEL\", \"BAAI/bge-m3\")\n",
    "BATCH_SIZE = int(os.getenv(\"BATCH_SIZE\", \"32\"))\n",
    "\n",
    "# Diretórios\n",
    "chunks_dir = Path(\"pipeline_data/chunks\")\n",
    "embeddings_dir = Path(\"pipeline_data/embeddings\")\n",
    "embeddings_dir.mkdir(parents=True, exist_ok=True)\n",
    "\n",
    "# Limpar diretório embeddings\n",
    "for f in embeddings_dir.glob(\"*\"):\n",
    "    if f.is_file():\n",
    "        f.unlink()\n",
    "\n",
    "print(f\"Modelo: {MODEL_NAME}\")\n",
    "print(f\"Batch size: {BATCH_SIZE}\")"
   ]
  },
  {
   "cell_type": "code",
   "execution_count": 2,
   "metadata": {
    "execution": {
     "iopub.execute_input": "2025-08-18T02:31:20.686099Z",
     "iopub.status.busy": "2025-08-18T02:31:20.685513Z",
     "iopub.status.idle": "2025-08-18T02:31:28.234250Z",
     "shell.execute_reply": "2025-08-18T02:31:28.233553Z"
    }
   },
   "outputs": [
    {
     "name": "stdout",
     "output_type": "stream",
     "text": [
      "Carregando modelo de embeddings...\n"
     ]
    },
    {
     "name": "stdout",
     "output_type": "stream",
     "text": [
      "✅ Modelo carregado: BAAI/bge-m3\n",
      "Dimensões: 1024\n"
     ]
    }
   ],
   "source": [
    "# Carregar modelo\n",
    "print(\"Carregando modelo de embeddings...\")\n",
    "model = SentenceTransformer(MODEL_NAME)\n",
    "embedding_dim = model.get_sentence_embedding_dimension()\n",
    "\n",
    "print(f\"✅ Modelo carregado: {MODEL_NAME}\")\n",
    "print(f\"Dimensões: {embedding_dim}\")"
   ]
  },
  {
   "cell_type": "code",
   "execution_count": 3,
   "metadata": {
    "execution": {
     "iopub.execute_input": "2025-08-18T02:31:28.236583Z",
     "iopub.status.busy": "2025-08-18T02:31:28.236365Z",
     "iopub.status.idle": "2025-08-18T02:31:28.243009Z",
     "shell.execute_reply": "2025-08-18T02:31:28.242375Z"
    }
   },
   "outputs": [
    {
     "name": "stdout",
     "output_type": "stream",
     "text": [
      "Chunks carregados: 322\n",
      "  1. # Visão Geral do Self Checkout\n",
      "\n",
      "## Introdução\n",
      "\n",
      "Est...\n",
      "  2. O objetivo desta documentação é descrever o fluxo ...\n",
      "  3. - Processo de identificação do cliente via CPF ou ...\n"
     ]
    }
   ],
   "source": [
    "# Carregar chunks\n",
    "chunks_file = chunks_dir / \"chunks.jsonl\"\n",
    "\n",
    "if not chunks_file.exists():\n",
    "    raise FileNotFoundError(f\"Arquivo de chunks não encontrado: {chunks_file}\")\n",
    "\n",
    "chunks = []\n",
    "with open(chunks_file, \"r\", encoding=\"utf-8\") as f:\n",
    "    for line in f:\n",
    "        chunk = json.loads(line)\n",
    "        chunks.append(chunk)\n",
    "\n",
    "print(f\"Chunks carregados: {len(chunks)}\")\n",
    "\n",
    "# Mostrar alguns exemplos\n",
    "for i, chunk in enumerate(chunks[:3]):\n",
    "    preview = chunk[\"text\"][:50] + \"...\" if len(chunk[\"text\"]) > 50 else chunk[\"text\"]\n",
    "    print(f\"  {i+1}. {preview}\")"
   ]
  },
  {
   "cell_type": "code",
   "execution_count": 4,
   "metadata": {
    "execution": {
     "iopub.execute_input": "2025-08-18T02:31:28.245307Z",
     "iopub.status.busy": "2025-08-18T02:31:28.245098Z",
     "iopub.status.idle": "2025-08-18T02:32:34.152631Z",
     "shell.execute_reply": "2025-08-18T02:32:34.151623Z"
    }
   },
   "outputs": [
    {
     "name": "stdout",
     "output_type": "stream",
     "text": [
      "Gerando embeddings...\n"
     ]
    },
    {
     "data": {
      "application/vnd.jupyter.widget-view+json": {
       "model_id": "4599c2ec38eb4ac7a80d036f8be0b191",
       "version_major": 2,
       "version_minor": 0
      },
      "text/plain": [
       "Batches:   0%|          | 0/11 [00:00<?, ?it/s]"
      ]
     },
     "metadata": {},
     "output_type": "display_data"
    },
    {
     "name": "stdout",
     "output_type": "stream",
     "text": [
      "✅ Embeddings gerados: 322\n",
      "Formato: (322, 1024)\n"
     ]
    }
   ],
   "source": [
    "# Gerar embeddings\n",
    "print(\"Gerando embeddings...\")\n",
    "\n",
    "# Extrair textos dos chunks\n",
    "texts = [chunk[\"text\"] for chunk in chunks]\n",
    "\n",
    "# Gerar embeddings em lotes\n",
    "embeddings = model.encode(\n",
    "    texts,\n",
    "    batch_size=BATCH_SIZE,\n",
    "    show_progress_bar=True,\n",
    "    normalize_embeddings=True\n",
    ")\n",
    "\n",
    "print(f\"✅ Embeddings gerados: {len(embeddings)}\")\n",
    "print(f\"Formato: {embeddings.shape}\")"
   ]
  },
  {
   "cell_type": "code",
   "execution_count": 5,
   "metadata": {
    "execution": {
     "iopub.execute_input": "2025-08-18T02:32:34.156182Z",
     "iopub.status.busy": "2025-08-18T02:32:34.155715Z",
     "iopub.status.idle": "2025-08-18T02:32:34.175907Z",
     "shell.execute_reply": "2025-08-18T02:32:34.175189Z"
    }
   },
   "outputs": [
    {
     "name": "stdout",
     "output_type": "stream",
     "text": [
      "Chunks com embeddings: 322\n"
     ]
    }
   ],
   "source": [
    "# Combinar chunks com embeddings\n",
    "chunks_with_embeddings = []\n",
    "\n",
    "for chunk, embedding in zip(chunks, embeddings):\n",
    "    chunk_with_embedding = {\n",
    "        \"chunk_id\": chunk[\"chunk_id\"],\n",
    "        \"source_document\": chunk[\"source_document\"],\n",
    "        \"chunk_index\": chunk[\"chunk_index\"],\n",
    "        \"text\": chunk[\"text\"],\n",
    "        \"char_count\": chunk[\"char_count\"],\n",
    "        \"embedding\": embedding.tolist(),\n",
    "        \"embedding_model\": MODEL_NAME,\n",
    "        \"embedding_dimensions\": len(embedding)\n",
    "    }\n",
    "    chunks_with_embeddings.append(chunk_with_embedding)\n",
    "\n",
    "print(f\"Chunks com embeddings: {len(chunks_with_embeddings)}\")"
   ]
  },
  {
   "cell_type": "code",
   "execution_count": 6,
   "metadata": {
    "execution": {
     "iopub.execute_input": "2025-08-18T02:32:34.177569Z",
     "iopub.status.busy": "2025-08-18T02:32:34.177426Z",
     "iopub.status.idle": "2025-08-18T02:32:34.351806Z",
     "shell.execute_reply": "2025-08-18T02:32:34.351253Z"
    }
   },
   "outputs": [
    {
     "name": "stdout",
     "output_type": "stream",
     "text": [
      "✅ Embeddings salvos: pipeline_data/embeddings/embeddings.jsonl\n",
      "\n",
      "📊 Estatísticas:\n",
      "  Total embeddings: 322\n",
      "  Dimensões: 1024\n",
      "  Tamanho total: 1.3 MB\n",
      "  Magnitude média: 1.000\n",
      "  Modelo: BAAI/bge-m3\n"
     ]
    }
   ],
   "source": [
    "# Salvar embeddings\n",
    "embeddings_file = embeddings_dir / \"embeddings.jsonl\"\n",
    "\n",
    "with open(embeddings_file, \"w\", encoding=\"utf-8\") as f:\n",
    "    for chunk_data in chunks_with_embeddings:\n",
    "        f.write(json.dumps(chunk_data, ensure_ascii=False) + \"\\n\")\n",
    "\n",
    "print(f\"✅ Embeddings salvos: {embeddings_file}\")\n",
    "\n",
    "# Estatísticas\n",
    "total_size_mb = (len(chunks_with_embeddings) * embedding_dim * 4) / (1024 * 1024)  # float32\n",
    "avg_magnitude = np.mean([np.linalg.norm(chunk[\"embedding\"]) for chunk in chunks_with_embeddings])\n",
    "\n",
    "print(f\"\\n📊 Estatísticas:\")\n",
    "print(f\"  Total embeddings: {len(chunks_with_embeddings)}\")\n",
    "print(f\"  Dimensões: {embedding_dim}\")\n",
    "print(f\"  Tamanho total: {total_size_mb:.1f} MB\")\n",
    "print(f\"  Magnitude média: {avg_magnitude:.3f}\")\n",
    "print(f\"  Modelo: {MODEL_NAME}\")"
   ]
  }
 ],
 "metadata": {
  "kernelspec": {
   "display_name": ".venv",
   "language": "python",
   "name": "python3"
  },
  "language_info": {
   "codemirror_mode": {
    "name": "ipython",
    "version": 3
   },
   "file_extension": ".py",
   "mimetype": "text/x-python",
   "name": "python",
   "nbconvert_exporter": "python",
   "pygments_lexer": "ipython3",
   "version": "3.11.2"
  },
  "widgets": {
   "application/vnd.jupyter.widget-state+json": {
    "state": {
     "27551d06ecae4766aad4d8ebf3cbd95c": {
      "model_module": "@jupyter-widgets/base",
      "model_module_version": "2.0.0",
      "model_name": "LayoutModel",
      "state": {
       "_model_module": "@jupyter-widgets/base",
       "_model_module_version": "2.0.0",
       "_model_name": "LayoutModel",
       "_view_count": null,
       "_view_module": "@jupyter-widgets/base",
       "_view_module_version": "2.0.0",
       "_view_name": "LayoutView",
       "align_content": null,
       "align_items": null,
       "align_self": null,
       "border_bottom": null,
       "border_left": null,
       "border_right": null,
       "border_top": null,
       "bottom": null,
       "display": null,
       "flex": null,
       "flex_flow": null,
       "grid_area": null,
       "grid_auto_columns": null,
       "grid_auto_flow": null,
       "grid_auto_rows": null,
       "grid_column": null,
       "grid_gap": null,
       "grid_row": null,
       "grid_template_areas": null,
       "grid_template_columns": null,
       "grid_template_rows": null,
       "height": null,
       "justify_content": null,
       "justify_items": null,
       "left": null,
       "margin": null,
       "max_height": null,
       "max_width": null,
       "min_height": null,
       "min_width": null,
       "object_fit": null,
       "object_position": null,
       "order": null,
       "overflow": null,
       "padding": null,
       "right": null,
       "top": null,
       "visibility": null,
       "width": null
      }
     },
     "302e596c39e048dc95bca5141789d14a": {
      "model_module": "@jupyter-widgets/controls",
      "model_module_version": "2.0.0",
      "model_name": "ProgressStyleModel",
      "state": {
       "_model_module": "@jupyter-widgets/controls",
       "_model_module_version": "2.0.0",
       "_model_name": "ProgressStyleModel",
       "_view_count": null,
       "_view_module": "@jupyter-widgets/base",
       "_view_module_version": "2.0.0",
       "_view_name": "StyleView",
       "bar_color": null,
       "description_width": ""
      }
     },
     "4599c2ec38eb4ac7a80d036f8be0b191": {
      "model_module": "@jupyter-widgets/controls",
      "model_module_version": "2.0.0",
      "model_name": "HBoxModel",
      "state": {
       "_dom_classes": [],
       "_model_module": "@jupyter-widgets/controls",
       "_model_module_version": "2.0.0",
       "_model_name": "HBoxModel",
       "_view_count": null,
       "_view_module": "@jupyter-widgets/controls",
       "_view_module_version": "2.0.0",
       "_view_name": "HBoxView",
       "box_style": "",
       "children": [
        "IPY_MODEL_4c4568ad3aad458097f37a64aec9714a",
        "IPY_MODEL_d37ffb62fa314848bfefe0bf302d736d",
        "IPY_MODEL_e1ce1d98584b4bb39d7b2550d461af37"
       ],
       "layout": "IPY_MODEL_57cadf7fc5274a9887ce83a403086ca1",
       "tabbable": null,
       "tooltip": null
      }
     },
     "4c4568ad3aad458097f37a64aec9714a": {
      "model_module": "@jupyter-widgets/controls",
      "model_module_version": "2.0.0",
      "model_name": "HTMLModel",
      "state": {
       "_dom_classes": [],
       "_model_module": "@jupyter-widgets/controls",
       "_model_module_version": "2.0.0",
       "_model_name": "HTMLModel",
       "_view_count": null,
       "_view_module": "@jupyter-widgets/controls",
       "_view_module_version": "2.0.0",
       "_view_name": "HTMLView",
       "description": "",
       "description_allow_html": false,
       "layout": "IPY_MODEL_27551d06ecae4766aad4d8ebf3cbd95c",
       "placeholder": "​",
       "style": "IPY_MODEL_688ecb365d424a0e91a5890b374a2cf9",
       "tabbable": null,
       "tooltip": null,
       "value": "Batches: 100%"
      }
     },
     "57cadf7fc5274a9887ce83a403086ca1": {
      "model_module": "@jupyter-widgets/base",
      "model_module_version": "2.0.0",
      "model_name": "LayoutModel",
      "state": {
       "_model_module": "@jupyter-widgets/base",
       "_model_module_version": "2.0.0",
       "_model_name": "LayoutModel",
       "_view_count": null,
       "_view_module": "@jupyter-widgets/base",
       "_view_module_version": "2.0.0",
       "_view_name": "LayoutView",
       "align_content": null,
       "align_items": null,
       "align_self": null,
       "border_bottom": null,
       "border_left": null,
       "border_right": null,
       "border_top": null,
       "bottom": null,
       "display": null,
       "flex": null,
       "flex_flow": null,
       "grid_area": null,
       "grid_auto_columns": null,
       "grid_auto_flow": null,
       "grid_auto_rows": null,
       "grid_column": null,
       "grid_gap": null,
       "grid_row": null,
       "grid_template_areas": null,
       "grid_template_columns": null,
       "grid_template_rows": null,
       "height": null,
       "justify_content": null,
       "justify_items": null,
       "left": null,
       "margin": null,
       "max_height": null,
       "max_width": null,
       "min_height": null,
       "min_width": null,
       "object_fit": null,
       "object_position": null,
       "order": null,
       "overflow": null,
       "padding": null,
       "right": null,
       "top": null,
       "visibility": null,
       "width": null
      }
     },
     "688ecb365d424a0e91a5890b374a2cf9": {
      "model_module": "@jupyter-widgets/controls",
      "model_module_version": "2.0.0",
      "model_name": "HTMLStyleModel",
      "state": {
       "_model_module": "@jupyter-widgets/controls",
       "_model_module_version": "2.0.0",
       "_model_name": "HTMLStyleModel",
       "_view_count": null,
       "_view_module": "@jupyter-widgets/base",
       "_view_module_version": "2.0.0",
       "_view_name": "StyleView",
       "background": null,
       "description_width": "",
       "font_size": null,
       "text_color": null
      }
     },
     "703460f7bcc1460b9208314b465fef2f": {
      "model_module": "@jupyter-widgets/base",
      "model_module_version": "2.0.0",
      "model_name": "LayoutModel",
      "state": {
       "_model_module": "@jupyter-widgets/base",
       "_model_module_version": "2.0.0",
       "_model_name": "LayoutModel",
       "_view_count": null,
       "_view_module": "@jupyter-widgets/base",
       "_view_module_version": "2.0.0",
       "_view_name": "LayoutView",
       "align_content": null,
       "align_items": null,
       "align_self": null,
       "border_bottom": null,
       "border_left": null,
       "border_right": null,
       "border_top": null,
       "bottom": null,
       "display": null,
       "flex": null,
       "flex_flow": null,
       "grid_area": null,
       "grid_auto_columns": null,
       "grid_auto_flow": null,
       "grid_auto_rows": null,
       "grid_column": null,
       "grid_gap": null,
       "grid_row": null,
       "grid_template_areas": null,
       "grid_template_columns": null,
       "grid_template_rows": null,
       "height": null,
       "justify_content": null,
       "justify_items": null,
       "left": null,
       "margin": null,
       "max_height": null,
       "max_width": null,
       "min_height": null,
       "min_width": null,
       "object_fit": null,
       "object_position": null,
       "order": null,
       "overflow": null,
       "padding": null,
       "right": null,
       "top": null,
       "visibility": null,
       "width": null
      }
     },
     "acc1d1938a1e490f9e3fe8d7b3171af3": {
      "model_module": "@jupyter-widgets/base",
      "model_module_version": "2.0.0",
      "model_name": "LayoutModel",
      "state": {
       "_model_module": "@jupyter-widgets/base",
       "_model_module_version": "2.0.0",
       "_model_name": "LayoutModel",
       "_view_count": null,
       "_view_module": "@jupyter-widgets/base",
       "_view_module_version": "2.0.0",
       "_view_name": "LayoutView",
       "align_content": null,
       "align_items": null,
       "align_self": null,
       "border_bottom": null,
       "border_left": null,
       "border_right": null,
       "border_top": null,
       "bottom": null,
       "display": null,
       "flex": null,
       "flex_flow": null,
       "grid_area": null,
       "grid_auto_columns": null,
       "grid_auto_flow": null,
       "grid_auto_rows": null,
       "grid_column": null,
       "grid_gap": null,
       "grid_row": null,
       "grid_template_areas": null,
       "grid_template_columns": null,
       "grid_template_rows": null,
       "height": null,
       "justify_content": null,
       "justify_items": null,
       "left": null,
       "margin": null,
       "max_height": null,
       "max_width": null,
       "min_height": null,
       "min_width": null,
       "object_fit": null,
       "object_position": null,
       "order": null,
       "overflow": null,
       "padding": null,
       "right": null,
       "top": null,
       "visibility": null,
       "width": null
      }
     },
     "d37ffb62fa314848bfefe0bf302d736d": {
      "model_module": "@jupyter-widgets/controls",
      "model_module_version": "2.0.0",
      "model_name": "FloatProgressModel",
      "state": {
       "_dom_classes": [],
       "_model_module": "@jupyter-widgets/controls",
       "_model_module_version": "2.0.0",
       "_model_name": "FloatProgressModel",
       "_view_count": null,
       "_view_module": "@jupyter-widgets/controls",
       "_view_module_version": "2.0.0",
       "_view_name": "ProgressView",
       "bar_style": "success",
       "description": "",
       "description_allow_html": false,
       "layout": "IPY_MODEL_703460f7bcc1460b9208314b465fef2f",
       "max": 11.0,
       "min": 0.0,
       "orientation": "horizontal",
       "style": "IPY_MODEL_302e596c39e048dc95bca5141789d14a",
       "tabbable": null,
       "tooltip": null,
       "value": 11.0
      }
     },
     "e1ce1d98584b4bb39d7b2550d461af37": {
      "model_module": "@jupyter-widgets/controls",
      "model_module_version": "2.0.0",
      "model_name": "HTMLModel",
      "state": {
       "_dom_classes": [],
       "_model_module": "@jupyter-widgets/controls",
       "_model_module_version": "2.0.0",
       "_model_name": "HTMLModel",
       "_view_count": null,
       "_view_module": "@jupyter-widgets/controls",
       "_view_module_version": "2.0.0",
       "_view_name": "HTMLView",
       "description": "",
       "description_allow_html": false,
       "layout": "IPY_MODEL_acc1d1938a1e490f9e3fe8d7b3171af3",
       "placeholder": "​",
       "style": "IPY_MODEL_e884957fd63543fd876604cb0a747a68",
       "tabbable": null,
       "tooltip": null,
       "value": " 11/11 [01:05&lt;00:00,  4.62s/it]"
      }
     },
     "e884957fd63543fd876604cb0a747a68": {
      "model_module": "@jupyter-widgets/controls",
      "model_module_version": "2.0.0",
      "model_name": "HTMLStyleModel",
      "state": {
       "_model_module": "@jupyter-widgets/controls",
       "_model_module_version": "2.0.0",
       "_model_name": "HTMLStyleModel",
       "_view_count": null,
       "_view_module": "@jupyter-widgets/base",
       "_view_module_version": "2.0.0",
       "_view_name": "StyleView",
       "background": null,
       "description_width": "",
       "font_size": null,
       "text_color": null
      }
     }
    },
    "version_major": 2,
    "version_minor": 0
   }
  }
 },
 "nbformat": 4,
 "nbformat_minor": 4
}
