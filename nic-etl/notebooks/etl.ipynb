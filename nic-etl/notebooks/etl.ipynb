{
 "cells": [
  {
   "cell_type": "markdown",
   "metadata": {},
   "source": [
    "# 🚀 NIC ETL\n",
    "\n",
    "Pipeline Orquestrador\n",
    "\n",
    "## 📋 O que este notebook faz\n",
    "\n",
    "Este é o **notebook master** que executa todo o pipeline NIC ETL de forma automatizada. Ele:\n",
    "\n",
    "- 🎯 **Executa em sequência** todos os 6 notebooks do pipeline\n",
    "- ⚙️ **Controla erros** - para imediatamente se alguma etapa falhar  \n",
    "- 📊 **Monitora progresso** - mostra status de cada etapa\n",
    "- 🔄 **Garante ordem** - executa na sequência correta de dependências\n",
    "\n",
    "## 🔗 Pipeline Completo\n",
    "\n",
    "```\n",
    "🏗️ Fundação → 📥 GitLab → ⚙️ Docling → 🔪 Chunks → 🧠 Embeddings → 💾 Qdrant\n",
    "```\n",
    "\n",
    "## ▶️ Como usar\n",
    "\n",
    "**Execute todas as células** deste notebook para rodar o pipeline completo, ou execute os notebooks individuais para controle manual.\n",
    "\n",
    "---"
   ]
  },
  {
   "cell_type": "markdown",
   "metadata": {},
   "source": [
    "## 🛠️ Configuração do Pipeline"
   ]
  },
  {
   "cell_type": "code",
   "execution_count": 1,
   "metadata": {
    "execution": {
     "iopub.execute_input": "2025-08-18T07:09:10.932481Z",
     "iopub.status.busy": "2025-08-18T07:09:10.932270Z",
     "iopub.status.idle": "2025-08-18T07:09:10.938702Z",
     "shell.execute_reply": "2025-08-18T07:09:10.938132Z"
    }
   },
   "outputs": [
    {
     "name": "stdout",
     "output_type": "stream",
     "text": [
      "🚀 Iniciando Pipeline NIC ETL\n",
      "Total de etapas: 6\n",
      "==================================================\n"
     ]
    }
   ],
   "source": [
    "import subprocess\n",
    "import sys\n",
    "from pathlib import Path\n",
    "\n",
    "# Notebooks do pipeline\n",
    "notebooks = [\n",
    "    \"etl-1-fundacao-preparacao.ipynb\",\n",
    "    \"etl-2-coleta-gitlab.ipynb\",\n",
    "    \"etl-3-processamento-docling.ipynb\",\n",
    "    \"etl-4-segmentacao-chunks.ipynb\",\n",
    "    \"etl-5-geracao-embeddings.ipynb\",\n",
    "    \"etl-6-armazenamento-qdrant.ipynb\"\n",
    "]\n",
    "\n",
    "print(\"🚀 Iniciando Pipeline NIC ETL\")\n",
    "print(f\"Total de etapas: {len(notebooks)}\")\n",
    "print(\"=\"*50)"
   ]
  },
  {
   "cell_type": "markdown",
   "metadata": {},
   "source": [
    "## 🚀 Execução do Pipeline"
   ]
  },
  {
   "cell_type": "code",
   "execution_count": 2,
   "metadata": {
    "execution": {
     "iopub.execute_input": "2025-08-18T07:09:10.969886Z",
     "iopub.status.busy": "2025-08-18T07:09:10.969658Z",
     "iopub.status.idle": "2025-08-18T07:10:58.472731Z",
     "shell.execute_reply": "2025-08-18T07:10:58.471843Z"
    }
   },
   "outputs": [
    {
     "name": "stdout",
     "output_type": "stream",
     "text": [
      "📋 Etapa 1/6: etl-1-fundacao-preparacao.ipynb\n"
     ]
    },
    {
     "name": "stdout",
     "output_type": "stream",
     "text": [
      "✅ etl-1-fundacao-preparacao.ipynb executado com sucesso\n",
      "----------------------------------------\n",
      "📋 Etapa 2/6: etl-2-coleta-gitlab.ipynb\n"
     ]
    },
    {
     "name": "stdout",
     "output_type": "stream",
     "text": [
      "✅ etl-2-coleta-gitlab.ipynb executado com sucesso\n",
      "----------------------------------------\n",
      "📋 Etapa 3/6: etl-3-processamento-docling.ipynb\n"
     ]
    },
    {
     "name": "stdout",
     "output_type": "stream",
     "text": [
      "✅ etl-3-processamento-docling.ipynb executado com sucesso\n",
      "----------------------------------------\n",
      "📋 Etapa 4/6: etl-4-segmentacao-chunks.ipynb\n"
     ]
    },
    {
     "name": "stdout",
     "output_type": "stream",
     "text": [
      "✅ etl-4-segmentacao-chunks.ipynb executado com sucesso\n",
      "----------------------------------------\n",
      "📋 Etapa 5/6: etl-5-geracao-embeddings.ipynb\n"
     ]
    },
    {
     "name": "stdout",
     "output_type": "stream",
     "text": [
      "✅ etl-5-geracao-embeddings.ipynb executado com sucesso\n",
      "----------------------------------------\n",
      "📋 Etapa 6/6: etl-6-armazenamento-qdrant.ipynb\n"
     ]
    },
    {
     "name": "stdout",
     "output_type": "stream",
     "text": [
      "✅ etl-6-armazenamento-qdrant.ipynb executado com sucesso\n",
      "----------------------------------------\n",
      "\n",
      "🎉 Pipeline NIC ETL concluído com sucesso!\n",
      "📊 Todas as etapas foram executadas\n",
      "💾 Dados processados e armazenados no Qdrant\n"
     ]
    }
   ],
   "source": [
    "# Executar notebooks em sequência\n",
    "for i, notebook in enumerate(notebooks, 1):\n",
    "    print(f\"📋 Etapa {i}/{len(notebooks)}: {notebook}\")\n",
    "    \n",
    "    try:\n",
    "        # Executar notebook\n",
    "        result = subprocess.run([\n",
    "            \"jupyter\", \"nbconvert\", \n",
    "            \"--to\", \"notebook\",\n",
    "            \"--execute\",\n",
    "            \"--inplace\",\n",
    "            notebook\n",
    "        ], capture_output=True, text=True, check=True)\n",
    "        \n",
    "        print(f\"✅ {notebook} executado com sucesso\")\n",
    "        \n",
    "    except subprocess.CalledProcessError as e:\n",
    "        print(f\"❌ Erro ao executar {notebook}:\")\n",
    "        print(f\"Stdout: {e.stdout}\")\n",
    "        print(f\"Stderr: {e.stderr}\")\n",
    "        \n",
    "        # Parar execução em caso de erro\n",
    "        print(\"\\n🛑 Pipeline interrompido devido a erro\")\n",
    "        break\n",
    "    \n",
    "    except Exception as e:\n",
    "        print(f\"❌ Erro inesperado: {str(e)}\")\n",
    "        break\n",
    "\n",
    "    print(\"-\" * 40)\n",
    "\n",
    "else:\n",
    "    print(\"\\n🎉 Pipeline NIC ETL concluído com sucesso!\")\n",
    "    print(\"📊 Todas as etapas foram executadas\")\n",
    "    print(\"💾 Dados processados e armazenados no Qdrant\")"
   ]
  }
 ],
 "metadata": {
  "kernelspec": {
   "display_name": ".venv",
   "language": "python",
   "name": "python3"
  },
  "language_info": {
   "codemirror_mode": {
    "name": "ipython",
    "version": 3
   },
   "file_extension": ".py",
   "mimetype": "text/x-python",
   "name": "python",
   "nbconvert_exporter": "python",
   "pygments_lexer": "ipython3",
   "version": "3.11.2"
  }
 },
 "nbformat": 4,
 "nbformat_minor": 4
}
