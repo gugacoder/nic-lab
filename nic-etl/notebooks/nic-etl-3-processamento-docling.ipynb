{
 "cells": [
  {
   "cell_type": "markdown",
   "metadata": {},
   "source": [
    "# ⚙️ PROCESSAMENTO DOCLING\n",
    "\n",
    "Extrai texto dos documentos usando Docling."
   ]
  },
  {
   "cell_type": "code",
   "execution_count": 1,
   "metadata": {
    "execution": {
     "iopub.execute_input": "2025-08-18T02:31:04.399213Z",
     "iopub.status.busy": "2025-08-18T02:31:04.398950Z",
     "iopub.status.idle": "2025-08-18T02:31:06.868192Z",
     "shell.execute_reply": "2025-08-18T02:31:06.867646Z"
    }
   },
   "outputs": [
    {
     "name": "stdout",
     "output_type": "stream",
     "text": [
      "Documentos encontrados: 31\n",
      "  30-Aprovados/Mapas/Visão Geral do Self Checkout.md\n",
      "  30-Aprovados/Mapas/Visão Geral do NIC.md\n",
      "  30-Aprovados/Mapas/Processa Sistemas.md\n",
      "  30-Aprovados/Tópicos/Cancelamento de cupom.md\n",
      "  30-Aprovados/Tópicos/Solicitação de ajuda.md\n",
      "  30-Aprovados/Tópicos/Histórico de atualizações Self Checkout.md\n",
      "  30-Aprovados/Tópicos/Funcionalidade do bloqueio.md\n",
      "  30-Aprovados/Tópicos/Aplicação de desconto por item.md\n",
      "  30-Aprovados/Tópicos/Propósito do NIC.md\n",
      "  30-Aprovados/Tópicos/Reimpressão do último cupom.md\n",
      "  ... e mais 21 documentos\n"
     ]
    }
   ],
   "source": [
    "from pathlib import Path\n",
    "from docling.document_converter import DocumentConverter\n",
    "\n",
    "# Extensões suportadas\n",
    "SUPPORTED_EXTENSIONS = ['.pdf', '.md', '.txt']\n",
    "\n",
    "# Diretórios\n",
    "docs_dir = Path(\"pipeline_data/documents\")\n",
    "processed_dir = Path(\"pipeline_data/processed\")\n",
    "processed_dir.mkdir(parents=True, exist_ok=True)\n",
    "\n",
    "# Limpar diretório processado recursivamente\n",
    "for f in processed_dir.rglob(\"*\"):\n",
    "    if f.is_file():\n",
    "        f.unlink()\n",
    "\n",
    "# Listar documentos recursivamente (apenas com extensões suportadas)\n",
    "all_files = list(docs_dir.rglob(\"*\"))\n",
    "documents = [f for f in all_files if f.is_file() and f.suffix.lower() in SUPPORTED_EXTENSIONS]\n",
    "\n",
    "print(f\"Documentos encontrados: {len(documents)}\")\n",
    "for doc in documents[:10]:\n",
    "    # Mostrar o caminho relativo ao docs_dir\n",
    "    relative_path = doc.relative_to(docs_dir)\n",
    "    print(f\"  {relative_path}\")\n",
    "\n",
    "if len(documents) > 10:\n",
    "    print(f\"  ... e mais {len(documents) - 10} documentos\")"
   ]
  },
  {
   "cell_type": "code",
   "execution_count": 2,
   "metadata": {
    "execution": {
     "iopub.execute_input": "2025-08-18T02:31:06.899502Z",
     "iopub.status.busy": "2025-08-18T02:31:06.898993Z",
     "iopub.status.idle": "2025-08-18T02:31:06.915109Z",
     "shell.execute_reply": "2025-08-18T02:31:06.914576Z"
    }
   },
   "outputs": [
    {
     "name": "stdout",
     "output_type": "stream",
     "text": [
      "  ✅ Copiado: Visão Geral do Self Checkout.md \n",
      "  ✅ Copiado: Visão Geral do NIC.md \n",
      "  ✅ Copiado: Processa Sistemas.md \n",
      "  ✅ Copiado: Cancelamento de cupom.md \n",
      "  ✅ Copiado: Solicitação de ajuda.md \n",
      "  ✅ Copiado: Histórico de atualizações Self Checkout.md \n",
      "  ✅ Copiado: Funcionalidade do bloqueio.md \n",
      "  ✅ Copiado: Aplicação de desconto por item.md \n",
      "  ✅ Copiado: Propósito do NIC.md \n",
      "  ✅ Copiado: Reimpressão do último cupom.md \n",
      "  ✅ Copiado: Função do Chat NIC.md \n",
      "  ✅ Copiado: Acesso ao menu do fiscal.md \n",
      "  ✅ Copiado: Cronograma e marcos do projeto.md \n",
      "  ✅ Copiado: Efetuar pagamento.md \n",
      "  ✅ Copiado: Cancelamento de item.md \n",
      "  ✅ Copiado: Operação contínua e evolução do sistema.md \n",
      "  ✅ Copiado: Finalidade e visão do NIC.md \n",
      "  ✅ Copiado: Iniciar a compra.md \n",
      "  ✅ Copiado: Processo de documentação e validação.md \n",
      "  ✅ Copiado: Infraestrutura técnica e operacional.md \n",
      "  ✅ Copiado: Apresentação do sistema Self Checkout.md \n",
      "  ✅ Copiado: Retornar para registro de venda.md \n",
      "  ✅ Copiado: Componentes principais do sistema.md \n",
      "  ✅ Copiado: Registro de produtos.md \n",
      "  ✅ Copiado: Pré-requisitos técnicos.md \n",
      "  ✅ Copiado: Estrutura e fluxo da base de conhecimento.md \n",
      "  ✅ Copiado: Finalização do movimento diário.md \n",
      "  ✅ Copiado: Identificação do cliente.md \n",
      "  ✅ Copiado: Governança e papéis organizacionais.md \n",
      "  ✅ Copiado: Padrões de Documentação do NIC.md \n",
      "  ✅ Copiado: Estratégia de implantação e adoção.md \n",
      "\n",
      "📊 Resumo:\n",
      "  Convertidos com Docling: 0\n",
      "  Markdown copiados: 31\n",
      "  Total processados: 31\n",
      "  Erros: 0\n"
     ]
    }
   ],
   "source": [
    "import shutil\n",
    "\n",
    "# Processar documentos\n",
    "converter = DocumentConverter()\n",
    "processed_count = 0\n",
    "errors = []\n",
    "copied_count = 0\n",
    "\n",
    "for doc_path in documents:\n",
    "    try:\n",
    "        # Criar caminho mantendo a estrutura de pastas\n",
    "        relative_path = doc_path.relative_to(docs_dir)\n",
    "        output_path = processed_dir / relative_path.parent\n",
    "        output_path.mkdir(parents=True, exist_ok=True)\n",
    "        \n",
    "        # Verificar se é arquivo Markdown\n",
    "        if doc_path.suffix.lower() in ['.md', '.markdown']:\n",
    "            # Copiar arquivo Markdown diretamente\n",
    "            output_file = output_path / doc_path.name\n",
    "            shutil.copy2(doc_path, output_file)\n",
    "            \n",
    "            copied_count += 1\n",
    "            print(f\"  ✅ Copiado: {doc_path.name} \")\n",
    "        else:\n",
    "            # Para outros formatos, usar Docling\n",
    "            result = converter.convert(doc_path)\n",
    "            \n",
    "            # Extrair texto\n",
    "            text_content = result.document.export_to_markdown()\n",
    "            \n",
    "            # Salvar texto extraído\n",
    "            text_file = output_path / f\"{doc_path.stem}.md\"\n",
    "            with open(text_file, \"w\", encoding=\"utf-8\") as f:\n",
    "                f.write(text_content)\n",
    "            \n",
    "            processed_count += 1\n",
    "            print(f\"  ✅ Convertido: {doc_path.name}\")\n",
    "        \n",
    "    except Exception as e:\n",
    "        error_msg = f\"{doc_path.name}: {str(e)}\"\n",
    "        errors.append(error_msg)\n",
    "        print(f\"  ❌ {doc_path.name} falhou: {str(e)}\")\n",
    "    \n",
    "print(f\"\\n📊 Resumo:\")\n",
    "print(f\"  Convertidos com Docling: {processed_count}\")\n",
    "print(f\"  Markdown copiados: {copied_count}\")\n",
    "print(f\"  Total processados: {processed_count + copied_count}\")\n",
    "print(f\"  Erros: {len(errors)}\")\n",
    "\n",
    "if errors:\n",
    "    print(f\"\\n❌ Erros:\")\n",
    "    for error in errors:\n",
    "        print(f\"  {error}\")"
   ]
  }
 ],
 "metadata": {
  "kernelspec": {
   "display_name": ".venv",
   "language": "python",
   "name": "python3"
  },
  "language_info": {
   "codemirror_mode": {
    "name": "ipython",
    "version": 3
   },
   "file_extension": ".py",
   "mimetype": "text/x-python",
   "name": "python",
   "nbconvert_exporter": "python",
   "pygments_lexer": "ipython3",
   "version": "3.11.2"
  }
 },
 "nbformat": 4,
 "nbformat_minor": 4
}
