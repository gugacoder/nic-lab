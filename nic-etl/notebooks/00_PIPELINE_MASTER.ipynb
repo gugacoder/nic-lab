{
 "cells": [
  {
   "cell_type": "markdown",
   "metadata": {},
   "source": [
    "# 🚀 PIPELINE MASTER\n",
    "\n",
    "Executa todos os notebooks do pipeline NIC ETL em sequência."
   ]
  },
  {
   "cell_type": "code",
   "execution_count": 1,
   "metadata": {},
   "outputs": [
    {
     "name": "stdout",
     "output_type": "stream",
     "text": [
      "🚀 Iniciando Pipeline NIC ETL\n",
      "Total de etapas: 2\n",
      "==================================================\n"
     ]
    }
   ],
   "source": [
    "import subprocess\n",
    "import sys\n",
    "from pathlib import Path\n",
    "\n",
    "# Notebooks do pipeline\n",
    "notebooks = [\n",
    "    \"01_FUNDACAO_PREPARACAO.ipynb\",\n",
    "    \"02_COLETA_GITLAB.ipynb\", \n",
    "    # \"03_PROCESSAMENTO_DOCLING.ipynb\",\n",
    "    # \"04_SEGMENTACAO_CHUNKS.ipynb\",\n",
    "    # \"05_GERACAO_EMBEDDINGS.ipynb\",\n",
    "    # \"06_ARMAZENAMENTO_QDRANT.ipynb\"\n",
    "]\n",
    "\n",
    "print(\"🚀 Iniciando Pipeline NIC ETL\")\n",
    "print(f\"Total de etapas: {len(notebooks)}\")\n",
    "print(\"=\"*50)"
   ]
  },
  {
   "cell_type": "code",
   "execution_count": 2,
   "metadata": {},
   "outputs": [
    {
     "name": "stdout",
     "output_type": "stream",
     "text": [
      "\n",
      "📋 Etapa 1/2: 01_FUNDACAO_PREPARACAO.ipynb\n",
      "----------------------------------------\n",
      "✅ 01_FUNDACAO_PREPARACAO.ipynb executado com sucesso\n",
      "\n",
      "📋 Etapa 2/2: 02_COLETA_GITLAB.ipynb\n",
      "----------------------------------------\n",
      "✅ 02_COLETA_GITLAB.ipynb executado com sucesso\n",
      "\n",
      "🎉 Pipeline NIC ETL concluído com sucesso!\n",
      "📊 Todas as etapas foram executadas\n",
      "💾 Dados processados e armazenados no Qdrant\n"
     ]
    }
   ],
   "source": [
    "# Executar notebooks em sequência\n",
    "for i, notebook in enumerate(notebooks, 1):\n",
    "    print(f\"\\n📋 Etapa {i}/{len(notebooks)}: {notebook}\")\n",
    "    print(\"-\" * 40)\n",
    "    \n",
    "    try:\n",
    "        # Executar notebook\n",
    "        result = subprocess.run([\n",
    "            \"jupyter\", \"nbconvert\", \n",
    "            \"--to\", \"notebook\",\n",
    "            \"--execute\",\n",
    "            \"--inplace\",\n",
    "            notebook\n",
    "        ], capture_output=True, text=True, check=True)\n",
    "        \n",
    "        print(f\"✅ {notebook} executado com sucesso\")\n",
    "        \n",
    "    except subprocess.CalledProcessError as e:\n",
    "        print(f\"❌ Erro ao executar {notebook}:\")\n",
    "        print(f\"Stdout: {e.stdout}\")\n",
    "        print(f\"Stderr: {e.stderr}\")\n",
    "        \n",
    "        # Parar execução em caso de erro\n",
    "        print(\"\\n🛑 Pipeline interrompido devido a erro\")\n",
    "        break\n",
    "    \n",
    "    except Exception as e:\n",
    "        print(f\"❌ Erro inesperado: {str(e)}\")\n",
    "        break\n",
    "\n",
    "else:\n",
    "    print(\"\\n🎉 Pipeline NIC ETL concluído com sucesso!\")\n",
    "    print(\"📊 Todas as etapas foram executadas\")\n",
    "    print(\"💾 Dados processados e armazenados no Qdrant\")"
   ]
  }
 ],
 "metadata": {
  "kernelspec": {
   "display_name": ".venv",
   "language": "python",
   "name": "python3"
  },
  "language_info": {
   "codemirror_mode": {
    "name": "ipython",
    "version": 3
   },
   "file_extension": ".py",
   "mimetype": "text/x-python",
   "name": "python",
   "nbconvert_exporter": "python",
   "pygments_lexer": "ipython3",
   "version": "3.11.2"
  }
 },
 "nbformat": 4,
 "nbformat_minor": 4
}
