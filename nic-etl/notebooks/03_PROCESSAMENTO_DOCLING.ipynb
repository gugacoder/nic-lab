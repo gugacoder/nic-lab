{
 "cells": [
  {
   "cell_type": "markdown",
   "metadata": {},
   "source": [
    "# ⚙️ PROCESSAMENTO DOCLING\n",
    "\n",
    "Extrai texto dos documentos usando Docling."
   ]
  },
  {
   "cell_type": "code",
   "execution_count": null,
   "metadata": {},
   "outputs": [
    {
     "name": "stdout",
     "output_type": "stream",
     "text": [
      "Documentos encontrados: 0\n"
     ]
    }
   ],
   "source": [
    "from pathlib import Path\n",
    "from docling.document_converter import DocumentConverter\n",
    "\n",
    "# Diretórios\n",
    "docs_dir = Path(\"pipeline_data/documents\")\n",
    "processed_dir = Path(\"pipeline_data/processed\")\n",
    "processed_dir.mkdir(parents=True, exist_ok=True)\n",
    "\n",
    "# Limpar diretório processado\n",
    "for f in processed_dir.glob(\"*\"):\n",
    "    if f.is_file():\n",
    "        f.unlink()\n",
    "\n",
    "# Listar documentos\n",
    "documents = list(docs_dir.glob(\"*\"))\n",
    "documents = [f for f in documents if f.is_file()]\n",
    "\n",
    "print(f\"Documentos encontrados: {len(documents)}\")\n",
    "for doc in documents:\n",
    "    print(f\"  {doc.name}\")"
   ]
  },
  {
   "cell_type": "code",
   "execution_count": null,
   "metadata": {},
   "outputs": [],
   "source": [
    "# Processar documentos\n",
    "converter = DocumentConverter()\n",
    "processed_count = 0\n",
    "errors = []\n",
    "\n",
    "for doc_path in documents:\n",
    "    try:\n",
    "        print(f\"Processando: {doc_path.name}\")\n",
    "        \n",
    "        # Converter documento\n",
    "        result = converter.convert(doc_path)\n",
    "        \n",
    "        # Extrair texto\n",
    "        text_content = result.document.export_to_text()\n",
    "        \n",
    "        # Salvar texto extraído\n",
    "        text_file = processed_dir / f\"{doc_path.stem}_text.txt\"\n",
    "        with open(text_file, \"w\", encoding=\"utf-8\") as f:\n",
    "            f.write(text_content)\n",
    "        \n",
    "        processed_count += 1\n",
    "        print(f\"  ✅ Texto extraído: {len(text_content)} caracteres\")\n",
    "        \n",
    "    except Exception as e:\n",
    "        error_msg = f\"{doc_path.name}: {str(e)}\"\n",
    "        errors.append(error_msg)\n",
    "        print(f\"  ❌ Erro: {str(e)}\")\n",
    "\n",
    "print(f\"\\n📊 Resumo:\")\n",
    "print(f\"  Processados: {processed_count}\")\n",
    "print(f\"  Erros: {len(errors)}\")\n",
    "\n",
    "if errors:\n",
    "    print(f\"\\n❌ Erros:\")\n",
    "    for error in errors:\n",
    "        print(f\"  {error}\")"
   ]
  }
 ],
 "metadata": {
  "kernelspec": {
   "display_name": ".venv",
   "language": "python",
   "name": "python3"
  },
  "language_info": {
   "codemirror_mode": {
    "name": "ipython",
    "version": 3
   },
   "file_extension": ".py",
   "mimetype": "text/x-python",
   "name": "python",
   "nbconvert_exporter": "python",
   "pygments_lexer": "ipython3",
   "version": "3.11.2"
  }
 },
 "nbformat": 4,
 "nbformat_minor": 4
}
