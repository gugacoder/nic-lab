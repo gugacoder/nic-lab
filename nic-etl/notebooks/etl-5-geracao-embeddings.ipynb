{
 "cells": [
  {
   "cell_type": "markdown",
   "metadata": {},
   "source": [
    "# 🧠 GERAÇÃO DE EMBEDDINGS - Etapa 5/6\n",
    "\n",
    "## 📋 O que este notebook faz\n",
    "\n",
    "Este notebook **converte texto em vetores** usando inteligência artificial para busca semântica:\n",
    "\n",
    "- 📚 **Carrega chunks** de `pipeline-data/chunks/chunks.jsonl`\n",
    "- 🤖 **Usa modelo BAAI/bge-m3** (multilíngue, otimizado para português)\n",
    "- ⚡ **Processa em lotes** de 32 chunks por vez para eficiência\n",
    "- 🎯 **Normaliza vetores** para busca por similaridade cosseno\n",
    "- 💾 **Salva embeddings** enriquecidos em JSONL\n",
    "\n",
    "## 🔧 Modelo BAAI/bge-m3\n",
    "\n",
    "- **1024 dimensões** por vetor (alta expressividade semântica)\n",
    "- **Multilíngue** com foco em português e inglês\n",
    "- **Normalização L2** para comparação eficiente\n",
    "- **State-of-the-art** para busca semântica\n",
    "\n",
    "## 📊 Output esperado\n",
    "\n",
    "322 chunks com embeddings (1.3MB) salvos em `pipeline-data/embeddings/embeddings.jsonl`\n",
    "\n",
    "---"
   ]
  },
  {
   "cell_type": "markdown",
   "metadata": {},
   "source": [
    "## 🔧 Configuração e Preparação"
   ]
  },
  {
   "cell_type": "code",
   "execution_count": 1,
   "metadata": {
    "execution": {
     "iopub.execute_input": "2025-08-18T09:46:07.118814Z",
     "iopub.status.busy": "2025-08-18T09:46:07.118639Z",
     "iopub.status.idle": "2025-08-18T09:46:11.985104Z",
     "shell.execute_reply": "2025-08-18T09:46:11.984690Z"
    }
   },
   "outputs": [
    {
     "name": "stdout",
     "output_type": "stream",
     "text": [
      "Modelo: BAAI/bge-m3\n",
      "Batch size: 32\n"
     ]
    }
   ],
   "source": [
    "import os\n",
    "import json\n",
    "from pathlib import Path\n",
    "from sentence_transformers import SentenceTransformer\n",
    "import numpy as np\n",
    "import time\n",
    "from datetime import datetime\n",
    "\n",
    "# Marcar início da execução\n",
    "stage_start = time.time()\n",
    "start_timestamp = datetime.now().isoformat() + \"Z\"\n",
    "\n",
    "# Configuração\n",
    "MODEL_NAME = os.getenv(\"EMBEDDING_MODEL\", \"BAAI/bge-m3\")\n",
    "BATCH_SIZE = int(os.getenv(\"BATCH_SIZE\", \"32\"))\n",
    "\n",
    "# Diretórios\n",
    "chunks_dir = Path(\"pipeline-data/chunks\")\n",
    "embeddings_dir = Path(\"pipeline-data/embeddings\")\n",
    "embeddings_dir.mkdir(parents=True, exist_ok=True)\n",
    "\n",
    "# Limpar diretório embeddings\n",
    "for f in embeddings_dir.glob(\"*\"):\n",
    "    if f.is_file():\n",
    "        f.unlink()\n",
    "\n",
    "print(f\"Modelo: {MODEL_NAME}\")\n",
    "print(f\"Batch size: {BATCH_SIZE}\")"
   ]
  },
  {
   "cell_type": "markdown",
   "metadata": {},
   "source": [
    "## 🤖 Carregamento do Modelo"
   ]
  },
  {
   "cell_type": "code",
   "execution_count": 2,
   "metadata": {
    "execution": {
     "iopub.execute_input": "2025-08-18T09:46:12.013992Z",
     "iopub.status.busy": "2025-08-18T09:46:12.013616Z",
     "iopub.status.idle": "2025-08-18T09:46:18.907514Z",
     "shell.execute_reply": "2025-08-18T09:46:18.906646Z"
    }
   },
   "outputs": [
    {
     "name": "stdout",
     "output_type": "stream",
     "text": [
      "Carregando modelo de embeddings...\n"
     ]
    },
    {
     "name": "stdout",
     "output_type": "stream",
     "text": [
      "✅ Modelo carregado: BAAI/bge-m3\n",
      "Dimensões: 1024\n"
     ]
    }
   ],
   "source": [
    "# Carregar modelo\n",
    "print(\"Carregando modelo de embeddings...\")\n",
    "model = SentenceTransformer(MODEL_NAME)\n",
    "embedding_dim = model.get_sentence_embedding_dimension()\n",
    "\n",
    "print(f\"✅ Modelo carregado: {MODEL_NAME}\")\n",
    "print(f\"Dimensões: {embedding_dim}\")"
   ]
  },
  {
   "cell_type": "code",
   "execution_count": 3,
   "metadata": {
    "execution": {
     "iopub.execute_input": "2025-08-18T09:46:18.909951Z",
     "iopub.status.busy": "2025-08-18T09:46:18.909753Z",
     "iopub.status.idle": "2025-08-18T09:46:18.916398Z",
     "shell.execute_reply": "2025-08-18T09:46:18.915869Z"
    }
   },
   "outputs": [
    {
     "name": "stdout",
     "output_type": "stream",
     "text": [
      "Chunks carregados: 322\n",
      "  1. # Visão Geral do Self Checkout\n",
      "\n",
      "## Introdução\n",
      "\n",
      "Est...\n",
      "  2. O objetivo desta documentação é descrever o fluxo ...\n",
      "  3. - Processo de identificação do cliente via CPF ou ...\n"
     ]
    }
   ],
   "source": [
    "# Carregar chunks\n",
    "chunks_file = chunks_dir / \"chunks.jsonl\"\n",
    "\n",
    "if not chunks_file.exists():\n",
    "    raise FileNotFoundError(f\"Arquivo de chunks não encontrado: {chunks_file}\")\n",
    "\n",
    "chunks = []\n",
    "with open(chunks_file, \"r\", encoding=\"utf-8\") as f:\n",
    "    for line in f:\n",
    "        chunk = json.loads(line)\n",
    "        chunks.append(chunk)\n",
    "\n",
    "print(f\"Chunks carregados: {len(chunks)}\")\n",
    "\n",
    "# Mostrar alguns exemplos\n",
    "for i, chunk in enumerate(chunks[:3]):\n",
    "    preview = chunk[\"text\"][:50] + \"...\" if len(chunk[\"text\"]) > 50 else chunk[\"text\"]\n",
    "    print(f\"  {i+1}. {preview}\")"
   ]
  },
  {
   "cell_type": "markdown",
   "metadata": {},
   "source": [
    "## 📚 Processamento de Chunks"
   ]
  },
  {
   "cell_type": "code",
   "execution_count": 4,
   "metadata": {
    "execution": {
     "iopub.execute_input": "2025-08-18T09:46:18.918302Z",
     "iopub.status.busy": "2025-08-18T09:46:18.918108Z",
     "iopub.status.idle": "2025-08-18T09:47:23.148632Z",
     "shell.execute_reply": "2025-08-18T09:47:23.147441Z"
    }
   },
   "outputs": [
    {
     "name": "stdout",
     "output_type": "stream",
     "text": [
      "Gerando embeddings...\n"
     ]
    },
    {
     "data": {
      "application/vnd.jupyter.widget-view+json": {
       "model_id": "8e96ebe3d7f546f68e95f83ce0e22973",
       "version_major": 2,
       "version_minor": 0
      },
      "text/plain": [
       "Batches:   0%|          | 0/11 [00:00<?, ?it/s]"
      ]
     },
     "metadata": {},
     "output_type": "display_data"
    },
    {
     "name": "stdout",
     "output_type": "stream",
     "text": [
      "✅ Embeddings gerados: 322\n",
      "Formato: (322, 1024)\n"
     ]
    }
   ],
   "source": [
    "# Gerar embeddings\n",
    "print(\"Gerando embeddings...\")\n",
    "\n",
    "# Extrair textos dos chunks\n",
    "texts = [chunk[\"text\"] for chunk in chunks]\n",
    "\n",
    "# Gerar embeddings em lotes\n",
    "embeddings = model.encode(\n",
    "    texts,\n",
    "    batch_size=BATCH_SIZE,\n",
    "    show_progress_bar=True,\n",
    "    normalize_embeddings=True\n",
    ")\n",
    "\n",
    "print(f\"✅ Embeddings gerados: {len(embeddings)}\")\n",
    "print(f\"Formato: {embeddings.shape}\")"
   ]
  },
  {
   "cell_type": "code",
   "execution_count": 5,
   "metadata": {
    "execution": {
     "iopub.execute_input": "2025-08-18T09:47:23.150892Z",
     "iopub.status.busy": "2025-08-18T09:47:23.150754Z",
     "iopub.status.idle": "2025-08-18T09:47:23.167126Z",
     "shell.execute_reply": "2025-08-18T09:47:23.166213Z"
    }
   },
   "outputs": [
    {
     "name": "stdout",
     "output_type": "stream",
     "text": [
      "Chunks com embeddings: 322\n"
     ]
    }
   ],
   "source": [
    "# Combinar chunks com embeddings\n",
    "chunks_with_embeddings = []\n",
    "\n",
    "for chunk, embedding in zip(chunks, embeddings):\n",
    "    chunk_with_embedding = {\n",
    "        \"chunk_id\": chunk[\"chunk_id\"],\n",
    "        \"source_document\": chunk[\"source_document\"],\n",
    "        \"chunk_index\": chunk[\"chunk_index\"],\n",
    "        \"text\": chunk[\"text\"],\n",
    "        \"char_count\": chunk[\"char_count\"],\n",
    "        \"embedding\": embedding.tolist(),\n",
    "        \"embedding_model\": MODEL_NAME,\n",
    "        \"embedding_dimensions\": len(embedding)\n",
    "    }\n",
    "    chunks_with_embeddings.append(chunk_with_embedding)\n",
    "\n",
    "print(f\"Chunks com embeddings: {len(chunks_with_embeddings)}\")"
   ]
  },
  {
   "cell_type": "markdown",
   "metadata": {},
   "source": [
    "## 💾 Armazenamento e Estatísticas"
   ]
  },
  {
   "cell_type": "code",
   "execution_count": 6,
   "metadata": {
    "execution": {
     "iopub.execute_input": "2025-08-18T09:47:23.169126Z",
     "iopub.status.busy": "2025-08-18T09:47:23.168886Z",
     "iopub.status.idle": "2025-08-18T09:47:23.348958Z",
     "shell.execute_reply": "2025-08-18T09:47:23.348528Z"
    }
   },
   "outputs": [
    {
     "name": "stdout",
     "output_type": "stream",
     "text": [
      "✅ Embeddings salvos: pipeline-data/embeddings/embeddings.jsonl\n",
      "\n",
      "📊 Estatísticas:\n",
      "  Total embeddings: 322\n",
      "  Dimensões: 1024\n",
      "  Tamanho total: 1.3 MB\n",
      "  Magnitude média: 1.000\n",
      "  Modelo: BAAI/bge-m3\n"
     ]
    }
   ],
   "source": [
    "# Salvar embeddings\n",
    "embeddings_file = embeddings_dir / \"embeddings.jsonl\"\n",
    "\n",
    "with open(embeddings_file, \"w\", encoding=\"utf-8\") as f:\n",
    "    for chunk_data in chunks_with_embeddings:\n",
    "        f.write(json.dumps(chunk_data, ensure_ascii=False) + \"\\n\")\n",
    "\n",
    "print(f\"✅ Embeddings salvos: {embeddings_file}\")\n",
    "\n",
    "# Estatísticas\n",
    "total_size_mb = (len(chunks_with_embeddings) * embedding_dim * 4) / (1024 * 1024)  # float32\n",
    "avg_magnitude = np.mean([np.linalg.norm(chunk[\"embedding\"]) for chunk in chunks_with_embeddings])\n",
    "\n",
    "print(f\"\\n📊 Estatísticas:\")\n",
    "print(f\"  Total embeddings: {len(chunks_with_embeddings)}\")\n",
    "print(f\"  Dimensões: {embedding_dim}\")\n",
    "print(f\"  Tamanho total: {total_size_mb:.1f} MB\")\n",
    "print(f\"  Magnitude média: {avg_magnitude:.3f}\")\n",
    "print(f\"  Modelo: {MODEL_NAME}\")"
   ]
  },
  {
   "cell_type": "markdown",
   "metadata": {},
   "source": [
    "## 📊 Relatório de Execução"
   ]
  },
  {
   "cell_type": "code",
   "execution_count": 7,
   "metadata": {
    "execution": {
     "iopub.execute_input": "2025-08-18T09:47:23.350419Z",
     "iopub.status.busy": "2025-08-18T09:47:23.350263Z",
     "iopub.status.idle": "2025-08-18T09:47:23.355946Z",
     "shell.execute_reply": "2025-08-18T09:47:23.355553Z"
    }
   },
   "outputs": [
    {
     "name": "stdout",
     "output_type": "stream",
     "text": [
      "\n",
      "📊 Relatório atualizado: pipeline-data/report.json\n",
      "⏱️ Duração da etapa: 71.37s\n"
     ]
    }
   ],
   "source": [
    "# Calcular duração\n",
    "stage_duration = time.time() - stage_start\n",
    "\n",
    "# Carregar relatório existente\n",
    "report_path = Path(\"pipeline-data/report.json\")\n",
    "if report_path.exists():\n",
    "    with open(report_path, \"r\") as f:\n",
    "        report = json.load(f)\n",
    "else:\n",
    "    report = {\"stages\": [], \"context\": {}, \"summary\": {}}\n",
    "\n",
    "# Atualizar contexto com modelo de embedding\n",
    "report[\"context\"][\"embedding_model\"] = MODEL_NAME\n",
    "\n",
    "# Adicionar informações desta etapa\n",
    "stage_report = {\n",
    "    \"stage\": 5,\n",
    "    \"name\": \"Geração de Embeddings\",\n",
    "    \"status\": \"SUCCESS\" if len(chunks_with_embeddings) > 0 else \"FAILED\",\n",
    "    \"start_time\": start_timestamp,\n",
    "    \"duration_seconds\": round(stage_duration, 2),\n",
    "    \"results\": {\n",
    "        \"chunks_loaded\": len(chunks),\n",
    "        \"embeddings_generated\": len(embeddings),\n",
    "        \"embedding_dimensions\": embedding_dim,\n",
    "        \"batch_size\": BATCH_SIZE,\n",
    "        \"storage_size_mb\": round(total_size_mb, 2),\n",
    "        \"avg_magnitude\": round(avg_magnitude, 3)\n",
    "    }\n",
    "}\n",
    "\n",
    "# Adicionar ou atualizar stage no relatório\n",
    "stages_updated = False\n",
    "for i, stage in enumerate(report[\"stages\"]):\n",
    "    if stage[\"stage\"] == 5:\n",
    "        report[\"stages\"][i] = stage_report\n",
    "        stages_updated = True\n",
    "        break\n",
    "\n",
    "if not stages_updated:\n",
    "    report[\"stages\"].append(stage_report)\n",
    "\n",
    "# Atualizar timestamp\n",
    "report[\"summary\"][\"last_update\"] = datetime.now().isoformat() + \"Z\"\n",
    "\n",
    "# Salvar relatório atualizado\n",
    "with open(report_path, \"w\") as f:\n",
    "    json.dump(report, f, indent=2, ensure_ascii=False)\n",
    "\n",
    "print(f\"\\n📊 Relatório atualizado: {report_path}\")\n",
    "print(f\"⏱️ Duração da etapa: {stage_duration:.2f}s\")"
   ]
  }
 ],
 "metadata": {
  "kernelspec": {
   "display_name": ".venv",
   "language": "python",
   "name": "python3"
  },
  "language_info": {
   "codemirror_mode": {
    "name": "ipython",
    "version": 3
   },
   "file_extension": ".py",
   "mimetype": "text/x-python",
   "name": "python",
   "nbconvert_exporter": "python",
   "pygments_lexer": "ipython3",
   "version": "3.11.2"
  },
  "widgets": {
   "application/vnd.jupyter.widget-state+json": {
    "state": {
     "01a2943cf7ef4e63913d53add39dc0ea": {
      "model_module": "@jupyter-widgets/controls",
      "model_module_version": "2.0.0",
      "model_name": "HTMLModel",
      "state": {
       "_dom_classes": [],
       "_model_module": "@jupyter-widgets/controls",
       "_model_module_version": "2.0.0",
       "_model_name": "HTMLModel",
       "_view_count": null,
       "_view_module": "@jupyter-widgets/controls",
       "_view_module_version": "2.0.0",
       "_view_name": "HTMLView",
       "description": "",
       "description_allow_html": false,
       "layout": "IPY_MODEL_851778713b384a57bdb2858d5a37abfc",
       "placeholder": "​",
       "style": "IPY_MODEL_72f33424cc2f413480c552733bd6021f",
       "tabbable": null,
       "tooltip": null,
       "value": "Batches: 100%"
      }
     },
     "02b30d3f0a1c4a12930079a7345e7c5a": {
      "model_module": "@jupyter-widgets/base",
      "model_module_version": "2.0.0",
      "model_name": "LayoutModel",
      "state": {
       "_model_module": "@jupyter-widgets/base",
       "_model_module_version": "2.0.0",
       "_model_name": "LayoutModel",
       "_view_count": null,
       "_view_module": "@jupyter-widgets/base",
       "_view_module_version": "2.0.0",
       "_view_name": "LayoutView",
       "align_content": null,
       "align_items": null,
       "align_self": null,
       "border_bottom": null,
       "border_left": null,
       "border_right": null,
       "border_top": null,
       "bottom": null,
       "display": null,
       "flex": null,
       "flex_flow": null,
       "grid_area": null,
       "grid_auto_columns": null,
       "grid_auto_flow": null,
       "grid_auto_rows": null,
       "grid_column": null,
       "grid_gap": null,
       "grid_row": null,
       "grid_template_areas": null,
       "grid_template_columns": null,
       "grid_template_rows": null,
       "height": null,
       "justify_content": null,
       "justify_items": null,
       "left": null,
       "margin": null,
       "max_height": null,
       "max_width": null,
       "min_height": null,
       "min_width": null,
       "object_fit": null,
       "object_position": null,
       "order": null,
       "overflow": null,
       "padding": null,
       "right": null,
       "top": null,
       "visibility": null,
       "width": null
      }
     },
     "040156554bcd4db6a2cdb7c431992c31": {
      "model_module": "@jupyter-widgets/base",
      "model_module_version": "2.0.0",
      "model_name": "LayoutModel",
      "state": {
       "_model_module": "@jupyter-widgets/base",
       "_model_module_version": "2.0.0",
       "_model_name": "LayoutModel",
       "_view_count": null,
       "_view_module": "@jupyter-widgets/base",
       "_view_module_version": "2.0.0",
       "_view_name": "LayoutView",
       "align_content": null,
       "align_items": null,
       "align_self": null,
       "border_bottom": null,
       "border_left": null,
       "border_right": null,
       "border_top": null,
       "bottom": null,
       "display": null,
       "flex": null,
       "flex_flow": null,
       "grid_area": null,
       "grid_auto_columns": null,
       "grid_auto_flow": null,
       "grid_auto_rows": null,
       "grid_column": null,
       "grid_gap": null,
       "grid_row": null,
       "grid_template_areas": null,
       "grid_template_columns": null,
       "grid_template_rows": null,
       "height": null,
       "justify_content": null,
       "justify_items": null,
       "left": null,
       "margin": null,
       "max_height": null,
       "max_width": null,
       "min_height": null,
       "min_width": null,
       "object_fit": null,
       "object_position": null,
       "order": null,
       "overflow": null,
       "padding": null,
       "right": null,
       "top": null,
       "visibility": null,
       "width": null
      }
     },
     "72f33424cc2f413480c552733bd6021f": {
      "model_module": "@jupyter-widgets/controls",
      "model_module_version": "2.0.0",
      "model_name": "HTMLStyleModel",
      "state": {
       "_model_module": "@jupyter-widgets/controls",
       "_model_module_version": "2.0.0",
       "_model_name": "HTMLStyleModel",
       "_view_count": null,
       "_view_module": "@jupyter-widgets/base",
       "_view_module_version": "2.0.0",
       "_view_name": "StyleView",
       "background": null,
       "description_width": "",
       "font_size": null,
       "text_color": null
      }
     },
     "851778713b384a57bdb2858d5a37abfc": {
      "model_module": "@jupyter-widgets/base",
      "model_module_version": "2.0.0",
      "model_name": "LayoutModel",
      "state": {
       "_model_module": "@jupyter-widgets/base",
       "_model_module_version": "2.0.0",
       "_model_name": "LayoutModel",
       "_view_count": null,
       "_view_module": "@jupyter-widgets/base",
       "_view_module_version": "2.0.0",
       "_view_name": "LayoutView",
       "align_content": null,
       "align_items": null,
       "align_self": null,
       "border_bottom": null,
       "border_left": null,
       "border_right": null,
       "border_top": null,
       "bottom": null,
       "display": null,
       "flex": null,
       "flex_flow": null,
       "grid_area": null,
       "grid_auto_columns": null,
       "grid_auto_flow": null,
       "grid_auto_rows": null,
       "grid_column": null,
       "grid_gap": null,
       "grid_row": null,
       "grid_template_areas": null,
       "grid_template_columns": null,
       "grid_template_rows": null,
       "height": null,
       "justify_content": null,
       "justify_items": null,
       "left": null,
       "margin": null,
       "max_height": null,
       "max_width": null,
       "min_height": null,
       "min_width": null,
       "object_fit": null,
       "object_position": null,
       "order": null,
       "overflow": null,
       "padding": null,
       "right": null,
       "top": null,
       "visibility": null,
       "width": null
      }
     },
     "8e96ebe3d7f546f68e95f83ce0e22973": {
      "model_module": "@jupyter-widgets/controls",
      "model_module_version": "2.0.0",
      "model_name": "HBoxModel",
      "state": {
       "_dom_classes": [],
       "_model_module": "@jupyter-widgets/controls",
       "_model_module_version": "2.0.0",
       "_model_name": "HBoxModel",
       "_view_count": null,
       "_view_module": "@jupyter-widgets/controls",
       "_view_module_version": "2.0.0",
       "_view_name": "HBoxView",
       "box_style": "",
       "children": [
        "IPY_MODEL_01a2943cf7ef4e63913d53add39dc0ea",
        "IPY_MODEL_eb2334f8a9d7454eb9cbdcfe7a130cd7",
        "IPY_MODEL_eff1d182e17542be8309e075832188f0"
       ],
       "layout": "IPY_MODEL_aa08be27a3a2411086ef20f1ff6d27ea",
       "tabbable": null,
       "tooltip": null
      }
     },
     "aa08be27a3a2411086ef20f1ff6d27ea": {
      "model_module": "@jupyter-widgets/base",
      "model_module_version": "2.0.0",
      "model_name": "LayoutModel",
      "state": {
       "_model_module": "@jupyter-widgets/base",
       "_model_module_version": "2.0.0",
       "_model_name": "LayoutModel",
       "_view_count": null,
       "_view_module": "@jupyter-widgets/base",
       "_view_module_version": "2.0.0",
       "_view_name": "LayoutView",
       "align_content": null,
       "align_items": null,
       "align_self": null,
       "border_bottom": null,
       "border_left": null,
       "border_right": null,
       "border_top": null,
       "bottom": null,
       "display": null,
       "flex": null,
       "flex_flow": null,
       "grid_area": null,
       "grid_auto_columns": null,
       "grid_auto_flow": null,
       "grid_auto_rows": null,
       "grid_column": null,
       "grid_gap": null,
       "grid_row": null,
       "grid_template_areas": null,
       "grid_template_columns": null,
       "grid_template_rows": null,
       "height": null,
       "justify_content": null,
       "justify_items": null,
       "left": null,
       "margin": null,
       "max_height": null,
       "max_width": null,
       "min_height": null,
       "min_width": null,
       "object_fit": null,
       "object_position": null,
       "order": null,
       "overflow": null,
       "padding": null,
       "right": null,
       "top": null,
       "visibility": null,
       "width": null
      }
     },
     "b3a8259cc99a466985f4008c067b554e": {
      "model_module": "@jupyter-widgets/controls",
      "model_module_version": "2.0.0",
      "model_name": "ProgressStyleModel",
      "state": {
       "_model_module": "@jupyter-widgets/controls",
       "_model_module_version": "2.0.0",
       "_model_name": "ProgressStyleModel",
       "_view_count": null,
       "_view_module": "@jupyter-widgets/base",
       "_view_module_version": "2.0.0",
       "_view_name": "StyleView",
       "bar_color": null,
       "description_width": ""
      }
     },
     "c343d52e417e4795be48813ab6670f32": {
      "model_module": "@jupyter-widgets/controls",
      "model_module_version": "2.0.0",
      "model_name": "HTMLStyleModel",
      "state": {
       "_model_module": "@jupyter-widgets/controls",
       "_model_module_version": "2.0.0",
       "_model_name": "HTMLStyleModel",
       "_view_count": null,
       "_view_module": "@jupyter-widgets/base",
       "_view_module_version": "2.0.0",
       "_view_name": "StyleView",
       "background": null,
       "description_width": "",
       "font_size": null,
       "text_color": null
      }
     },
     "eb2334f8a9d7454eb9cbdcfe7a130cd7": {
      "model_module": "@jupyter-widgets/controls",
      "model_module_version": "2.0.0",
      "model_name": "FloatProgressModel",
      "state": {
       "_dom_classes": [],
       "_model_module": "@jupyter-widgets/controls",
       "_model_module_version": "2.0.0",
       "_model_name": "FloatProgressModel",
       "_view_count": null,
       "_view_module": "@jupyter-widgets/controls",
       "_view_module_version": "2.0.0",
       "_view_name": "ProgressView",
       "bar_style": "success",
       "description": "",
       "description_allow_html": false,
       "layout": "IPY_MODEL_040156554bcd4db6a2cdb7c431992c31",
       "max": 11.0,
       "min": 0.0,
       "orientation": "horizontal",
       "style": "IPY_MODEL_b3a8259cc99a466985f4008c067b554e",
       "tabbable": null,
       "tooltip": null,
       "value": 11.0
      }
     },
     "eff1d182e17542be8309e075832188f0": {
      "model_module": "@jupyter-widgets/controls",
      "model_module_version": "2.0.0",
      "model_name": "HTMLModel",
      "state": {
       "_dom_classes": [],
       "_model_module": "@jupyter-widgets/controls",
       "_model_module_version": "2.0.0",
       "_model_name": "HTMLModel",
       "_view_count": null,
       "_view_module": "@jupyter-widgets/controls",
       "_view_module_version": "2.0.0",
       "_view_name": "HTMLView",
       "description": "",
       "description_allow_html": false,
       "layout": "IPY_MODEL_02b30d3f0a1c4a12930079a7345e7c5a",
       "placeholder": "​",
       "style": "IPY_MODEL_c343d52e417e4795be48813ab6670f32",
       "tabbable": null,
       "tooltip": null,
       "value": " 11/11 [01:04&lt;00:00,  4.59s/it]"
      }
     }
    },
    "version_major": 2,
    "version_minor": 0
   }
  }
 },
 "nbformat": 4,
 "nbformat_minor": 4
}
